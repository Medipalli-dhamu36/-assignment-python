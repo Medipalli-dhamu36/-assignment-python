{
  "nbformat": 4,
  "nbformat_minor": 0,
  "metadata": {
    "colab": {
      "name": "Ds.ipynb",
      "provenance": [],
      "authorship_tag": "ABX9TyOZm244amPL5/OFKMYBdGLK",
      "include_colab_link": true
    },
    "kernelspec": {
      "name": "python3",
      "display_name": "Python 3"
    }
  },
  "cells": [
    {
      "cell_type": "markdown",
      "metadata": {
        "id": "view-in-github",
        "colab_type": "text"
      },
      "source": [
        "<a href=\"https://colab.research.google.com/github/charitha0606/-assignment-python/blob/master/Ds.ipynb\" target=\"_parent\"><img src=\"https://colab.research.google.com/assets/colab-badge.svg\" alt=\"Open In Colab\"/></a>"
      ]
    },
    {
      "cell_type": "markdown",
      "metadata": {
        "id": "yrVGel3NB5Mz"
      },
      "source": [
        " 1.A.Find minimum among three numbers."
      ]
    },
    {
      "cell_type": "code",
      "metadata": {
        "colab": {
          "base_uri": "https://localhost:8080/"
        },
        "id": "0hclYCCwCJD3",
        "outputId": "e4bceb2c-6e82-46f0-f17a-47c246f7de82"
      },
      "source": [
        " \n",
        "a=10\n",
        "b=6\n",
        "c=4\n",
        "if(a <= b and a <= c): \n",
        " \n",
        "    print(a, \"is the smallest\") \n",
        " \n",
        "elif(b <= a and b <= c): \n",
        " \n",
        "    print(b, \"is the smallest\") \n",
        " \n",
        "else: \n",
        " \n",
        "    print(c, \"is the smallest\")"
      ],
      "execution_count": 2,
      "outputs": [
        {
          "output_type": "stream",
          "text": [
            "4 is the smallest\n"
          ],
          "name": "stdout"
        }
      ]
    },
    {
      "cell_type": "markdown",
      "metadata": {
        "id": "ETIvs7tEDSF5"
      },
      "source": [
        "1.Bfind the GCD and LCM of two or three numbers"
      ]
    },
    {
      "cell_type": "code",
      "metadata": {
        "colab": {
          "base_uri": "https://localhost:8080/"
        },
        "id": "85OkpKfKDhX0",
        "outputId": "dc019044-0fe1-493a-adaf-d21ba21d0e85"
      },
      "source": [
        " \n",
        "a=int(input(\"Enter the first number \"))\n",
        "b=int(input(\"Enter the second number \"))\n",
        "i=1\n",
        "while (i <= a and i <= b):\n",
        "  if(a%i == 0 and b%i == 0):\n",
        "    gcd = i\n",
        "  i = i + 1\n",
        "lcm = (a*b)/gcd\n",
        "print(\"GCD of the given numbers is \", gcd)\n",
        "print(\"LCM of the given numbers is \",lcm)"
      ],
      "execution_count": 3,
      "outputs": [
        {
          "output_type": "stream",
          "text": [
            "Enter the first number 5\n",
            "Enter the second number 10\n",
            "GCD of the given numbers is  5\n",
            "LCM of the given numbers is  10.0\n"
          ],
          "name": "stdout"
        }
      ]
    },
    {
      "cell_type": "markdown",
      "metadata": {
        "id": "N9IC0I_dFC1P"
      },
      "source": [
        "1.C.Check Wheather the given number is perfect."
      ]
    },
    {
      "cell_type": "code",
      "metadata": {
        "colab": {
          "base_uri": "https://localhost:8080/"
        },
        "id": "7mAFtScDGktU",
        "outputId": "2878c3d3-4c2b-4337-90da-5849185e51ae"
      },
      "source": [
        " n = int(input(\"Enter any number: \"))\n",
        "sum1 = 0\n",
        "for i in range(1, n):\n",
        "    if(n % i == 0):\n",
        "        sum1 = sum1 + i\n",
        "if (sum1 == n):\n",
        "    print(\"The number is a Perfect number!\")\n",
        "else:\n",
        "    print(\"The number is not a Perfect number!\")"
      ],
      "execution_count": 4,
      "outputs": [
        {
          "output_type": "stream",
          "text": [
            "Enter any number: 3\n",
            "The number is not a Perfect number!\n"
          ],
          "name": "stdout"
        }
      ]
    },
    {
      "cell_type": "markdown",
      "metadata": {
        "id": "UKSxC7_eHEQp"
      },
      "source": [
        "1.D.print twin primes upto a specified limit."
      ]
    },
    {
      "cell_type": "code",
      "metadata": {
        "colab": {
          "base_uri": "https://localhost:8080/"
        },
        "id": "K_gQfE3-HQ9x",
        "outputId": "0cb59355-6f98-4cad-9f39-46605b970ad3"
      },
      "source": [
        " \n",
        "def prime(n):\n",
        "    for i in range(2, n):\n",
        "        if n % i == 0:\n",
        "            return False\n",
        "    return True\n",
        " \n",
        "def twin_prime(start, end):\n",
        "    for i in range(start, end):\n",
        "        j= i + 2\n",
        "        if (prime(i) and prime(j)):\n",
        "            print (\"{:d} and {:d}\".format(i, j))\n",
        " \n",
        "twin_prime(2, 250)"
      ],
      "execution_count": 5,
      "outputs": [
        {
          "output_type": "stream",
          "text": [
            "3 and 5\n",
            "5 and 7\n",
            "11 and 13\n",
            "17 and 19\n",
            "29 and 31\n",
            "41 and 43\n",
            "59 and 61\n",
            "71 and 73\n",
            "101 and 103\n",
            "107 and 109\n",
            "137 and 139\n",
            "149 and 151\n",
            "179 and 181\n",
            "191 and 193\n",
            "197 and 199\n",
            "227 and 229\n",
            "239 and 241\n"
          ],
          "name": "stdout"
        }
      ]
    },
    {
      "cell_type": "markdown",
      "metadata": {
        "id": "iwZYJ5XsHpVn"
      },
      "source": [
        "1.E.print the prime number upto a specified limit."
      ]
    },
    {
      "cell_type": "code",
      "metadata": {
        "colab": {
          "base_uri": "https://localhost:8080/"
        },
        "id": "O44lZ7p1H1Yw",
        "outputId": "43ae8d19-d48c-4780-8f51-f6fa63a24756"
      },
      "source": [
        " \n",
        "n1 = int(input(\"Enter the first number \"))\n",
        "n2 = int(input(\"Enter the last number \"))\n",
        " \n",
        "for n in range(n1, n2+1):  \n",
        "    if n > 1:\n",
        "        for i in range(2,n):\n",
        "            if (n % i == 0):\n",
        "                break  \n",
        "        else:  \n",
        "            print(n)"
      ],
      "execution_count": 6,
      "outputs": [
        {
          "output_type": "stream",
          "text": [
            "Enter the first number 8\n",
            "Enter the last number 5\n"
          ],
          "name": "stdout"
        }
      ]
    },
    {
      "cell_type": "markdown",
      "metadata": {
        "id": "BclYxIPeIDy1"
      },
      "source": [
        "1.F.find the sum of the digits of a number.check wheather the given number is Armstrong or not."
      ]
    },
    {
      "cell_type": "code",
      "metadata": {
        "colab": {
          "base_uri": "https://localhost:8080/"
        },
        "id": "q09TJo5_IXRV",
        "outputId": "ad6e5703-879b-48bd-cf78-4ef66625968d"
      },
      "source": [
        " \n",
        "import math \n",
        "n1 = int(input(\"Enter your first number \"))\n",
        "n2 = int(input(\"Enter your second number \"))\n",
        "print(\"The armstrong numbers form the interval are \")\n",
        "if n1 < n2:\n",
        "    for i in range(n1,n2+1):\n",
        "        sum = 0\n",
        "        temp = i\n",
        "        \n",
        "        while temp != 0:\n",
        "            last = temp%10\n",
        "            sum = sum + math.pow(last,3)\n",
        "            temp = temp//10\n",
        "        if sum==i:\n",
        "            print(i)"
      ],
      "execution_count": 7,
      "outputs": [
        {
          "output_type": "stream",
          "text": [
            "Enter your first number 2\n",
            "Enter your second number 4\n",
            "The armstrong numbers form the interval are \n"
          ],
          "name": "stdout"
        }
      ]
    },
    {
      "cell_type": "markdown",
      "metadata": {
        "id": "ZvuAk8cPImuN"
      },
      "source": [
        "1.G.swap of two numbers."
      ]
    },
    {
      "cell_type": "code",
      "metadata": {
        "colab": {
          "base_uri": "https://localhost:8080/"
        },
        "id": "Zr_rrFnvIwG2",
        "outputId": "0b02ef23-a7a5-4cb5-9037-4e4de554ea78"
      },
      "source": [
        " \n",
        "a=int(input(\"enter number:\"))\n",
        "b=int(input(\"enter number:\"))\n",
        "print(\"before swap the values of a and b are:\",a,b)\n",
        "a,b=b,a\n",
        "print(\"after swap the values of a and b are:\",a,b)"
      ],
      "execution_count": 8,
      "outputs": [
        {
          "output_type": "stream",
          "text": [
            "enter number:5\n",
            "enter number:7\n",
            "before swap the values of a and b are: 5 7\n",
            "after swap the values of a and b are: 7 5\n"
          ],
          "name": "stdout"
        }
      ]
    },
    {
      "cell_type": "markdown",
      "metadata": {
        "id": "xSEYVn9XI1rV"
      },
      "source": [
        "1.H.perform all the arithmetic operations."
      ]
    },
    {
      "cell_type": "code",
      "metadata": {
        "colab": {
          "base_uri": "https://localhost:8080/"
        },
        "id": "RVJIKbtLJB-c",
        "outputId": "e7ff9c09-0267-4e3b-ef60-c87e786244e2"
      },
      "source": [
        " a= 50\n",
        "b = 20\n",
        "c = 10\n",
        " \n",
        "c = a + b\n",
        "print (\"Addition - Value of c is \", c)\n",
        " \n",
        "c = a - b\n",
        "print (\"Subtraction - Value of c is \", c)\n",
        " \n",
        "c = a * b\n",
        "print (\"Multiplication - Value of c is \", c)\n",
        " \n",
        "c = a / b\n",
        "print (\"Division - Value of c is \", c)\n",
        " \n",
        "c = a % b\n",
        "print (\"Modulus - Value of c is \", c)"
      ],
      "execution_count": 9,
      "outputs": [
        {
          "output_type": "stream",
          "text": [
            "Addition - Value of c is  70\n",
            "Subtraction - Value of c is  30\n",
            "Multiplication - Value of c is  1000\n",
            "Division - Value of c is  2.5\n",
            "Modulus - Value of c is  10\n"
          ],
          "name": "stdout"
        }
      ]
    },
    {
      "cell_type": "markdown",
      "metadata": {
        "id": "IrV33vvDJn1v"
      },
      "source": [
        "2.A.copy the contents from one array to another array."
      ]
    },
    {
      "cell_type": "code",
      "metadata": {
        "colab": {
          "base_uri": "https://localhost:8080/"
        },
        "id": "0axhO2MPKtAs",
        "outputId": "39bb8b0a-dc35-4574-c11c-3b069e9b2080"
      },
      "source": [
        " import numpy as np\n",
        "x = np.array([24, 27, 30, 29, 18, 14])\n",
        "print(\"Original array:\")\n",
        "print(x)\n",
        "y = np.empty_like (x)\n",
        "y[:] = x\n",
        "print(\"\\nCopy of the said array:\")\n",
        "print(y)"
      ],
      "execution_count": 11,
      "outputs": [
        {
          "output_type": "stream",
          "text": [
            "Original array:\n",
            "[24 27 30 29 18 14]\n",
            "\n",
            "Copy of the said array:\n",
            "[24 27 30 29 18 14]\n"
          ],
          "name": "stdout"
        }
      ]
    },
    {
      "cell_type": "markdown",
      "metadata": {
        "id": "NfTL26kGLA9m"
      },
      "source": [
        "2.B.copy the contents from one array to another array in reverse order."
      ]
    },
    {
      "cell_type": "code",
      "metadata": {
        "colab": {
          "base_uri": "https://localhost:8080/"
        },
        "id": "IUvGG6TkLKOO",
        "outputId": "e12d01e5-fce3-4055-90b5-f9b9077d5419"
      },
      "source": [
        " \n",
        "import array as arr\n",
        "source = arr.array('i', [10, 20, 30, 40])\n",
        "dest = arr.array('i', [])\n",
        " \n",
        "for index in range(0, len(source)):\n",
        "    dest.insert(index, source[index])\n",
        "    \n",
        "for i in dest:\n",
        "    print(i, end=\" \")\n",
        "print(type(dest))\n",
        "print(\"The reverse of the array: \")\n",
        "for i in range(len(source)-1, -1, -1):\n",
        "    dest.insert(index, source[index])\n",
        "    print(dest[i], end=\" \")"
      ],
      "execution_count": 12,
      "outputs": [
        {
          "output_type": "stream",
          "text": [
            "10 20 30 40 <class 'array.array'>\n",
            "The reverse of the array: \n",
            "40 30 20 10 "
          ],
          "name": "stdout"
        }
      ]
    },
    {
      "cell_type": "markdown",
      "metadata": {
        "id": "b9VI2PdmLVNJ"
      },
      "source": [
        "2.C.delete the duplicates elements from an array."
      ]
    },
    {
      "cell_type": "code",
      "metadata": {
        "colab": {
          "base_uri": "https://localhost:8080/"
        },
        "id": "SW8yuCRgLdw5",
        "outputId": "8b9fa633-781e-4148-812a-1483a2f6eb62"
      },
      "source": [
        " \n",
        "import array as arr\n",
        "def delete_duplicate(array1):\n",
        "    array2 = arr.array(\"i\", [])\n",
        "    for num in array1: \n",
        "        if num not in array2: \n",
        "            array2.append(num) \n",
        "    print(\"\\nArray after deleting the duplicate elements is:\")\n",
        "    for i in array2:\n",
        "        print(i, end = \", \")\n",
        " \n",
        "delete_duplicate(arr.array('i', [1,2,4,5,2,3,7,3,8,2,9]))"
      ],
      "execution_count": 13,
      "outputs": [
        {
          "output_type": "stream",
          "text": [
            "\n",
            "Array after deleting the duplicate elements is:\n",
            "1, 2, 4, 5, 3, 7, 8, 9, "
          ],
          "name": "stdout"
        }
      ]
    },
    {
      "cell_type": "markdown",
      "metadata": {
        "id": "BGr_kXOjLmKl"
      },
      "source": [
        "3.A.representing spare matrix."
      ]
    },
    {
      "cell_type": "code",
      "metadata": {
        "colab": {
          "base_uri": "https://localhost:8080/"
        },
        "id": "wNyayP0YLrZS",
        "outputId": "ec0dc3cf-a4e3-4105-bb86-18695fb68d7b"
      },
      "source": [
        " \n",
        "import numpy as np \n",
        "from scipy.sparse import csr_matrix \n",
        "  \n",
        "# Creating a 3 * 4 sparse matrix \n",
        "sparseMatrix = csr_matrix((3, 4),  \n",
        "                          dtype = np.int8).toarray() \n",
        "  \n",
        "# Print the sparse matrix \n",
        "print(sparseMatrix)"
      ],
      "execution_count": 14,
      "outputs": [
        {
          "output_type": "stream",
          "text": [
            "[[0 0 0 0]\n",
            " [0 0 0 0]\n",
            " [0 0 0 0]]\n"
          ],
          "name": "stdout"
        }
      ]
    },
    {
      "cell_type": "markdown",
      "metadata": {
        "id": "QykJ2GzBLxrI"
      },
      "source": [
        "3.B.spare matrix addition."
      ]
    },
    {
      "cell_type": "code",
      "metadata": {
        "colab": {
          "base_uri": "https://localhost:8080/"
        },
        "id": "eINnbHs1L2yd",
        "outputId": "6443267b-6188-4c64-fc9a-608fdd822a38"
      },
      "source": [
        " \n",
        "m1=[[1,0,3],\n",
        "     [0,5,6],\n",
        "     [7,0,0]]\n",
        "m2=[[0,5,1],\n",
        "    [0,0,8],\n",
        "    [0,2,6]]     \n",
        "result=[[0,0,0],\n",
        "    [0,0,0],\n",
        "    [0,0,0]] \n",
        "for i in range(len(m1)):\n",
        "  for j in range(len(m2)):\n",
        "    for k in range(len(m2)):\n",
        "      result[i][j] = m1[i][j]+m2[i][j]\n",
        "print(\"The resultant matrix \")\n",
        "for r in result:\n",
        "  print(r)"
      ],
      "execution_count": 15,
      "outputs": [
        {
          "output_type": "stream",
          "text": [
            "The resultant matrix \n",
            "[1, 5, 4]\n",
            "[0, 5, 14]\n",
            "[7, 2, 6]\n"
          ],
          "name": "stdout"
        }
      ]
    },
    {
      "cell_type": "markdown",
      "metadata": {
        "id": "QTxXDEZTL6ud"
      },
      "source": [
        "3.C.spare matrix transpose."
      ]
    },
    {
      "cell_type": "code",
      "metadata": {
        "colab": {
          "base_uri": "https://localhost:8080/"
        },
        "id": "QWKImzU-L_hv",
        "outputId": "2c5313f8-8759-426a-d63d-7fdd85f5138a"
      },
      "source": [
        " \n",
        "N=4\n",
        "def transpose(A,B): \n",
        "  \n",
        "    for i in range(N): \n",
        "        for j in range(N): \n",
        "            B[i][j] = A[j][i] \n",
        " \n",
        "A = [ [1, 1, 1, 1], \n",
        "    [2, 2, 2, 2], \n",
        "    [3, 3, 3, 3], \n",
        "    [4, 4, 4, 4]] \n",
        "   \n",
        "   \n",
        "B = A[:][:] \n",
        "  \n",
        "transpose(A, B) \n",
        "   \n",
        "print(\"Result matrix is\") \n",
        "for i in range(N): \n",
        "    for j in range(N): \n",
        "        print(B[i][j], \" \", end='') \n",
        "    print()"
      ],
      "execution_count": 20,
      "outputs": [
        {
          "output_type": "stream",
          "text": [
            "Result matrix is\n",
            "1  2  3  4  \n",
            "2  2  3  4  \n",
            "3  3  3  4  \n",
            "4  4  4  4  \n"
          ],
          "name": "stdout"
        }
      ]
    },
    {
      "cell_type": "markdown",
      "metadata": {
        "id": "r9wV8XzoMEBn"
      },
      "source": [
        "4.write a program to perform linear search and binary search on a list sorted in an array."
      ]
    },
    {
      "cell_type": "code",
      "metadata": {
        "colab": {
          "base_uri": "https://localhost:8080/"
        },
        "id": "2on2RnCTMhpX",
        "outputId": "969a960b-81c5-438f-e8ad-f1dc7053951d"
      },
      "source": [
        "#Linear search\n",
        "def linear(alist,key):\n",
        "  for i in range(len(alist)):\n",
        "    if alist[i]==key :\n",
        "      return i \n",
        "  return -1\n",
        " \n",
        " \n",
        "alist = input('Enter the list of numbers :')\n",
        "alist = alist.split()\n",
        "alist =[int(x) for x in alist]\n",
        "key = int(input('The number to search for :'))\n",
        " \n",
        "index = linear(alist,key)\n",
        "if index<0 :\n",
        "   print('{} was not found '.format(key))\n",
        "else:\n",
        "  print('{} was found at index {}.'.format(key,index))"
      ],
      "execution_count": 18,
      "outputs": [
        {
          "output_type": "stream",
          "text": [
            "Enter the list of numbers :1 2 4 7 9\n",
            "The number to search for :4\n",
            "4 was found at index 2.\n"
          ],
          "name": "stdout"
        }
      ]
    },
    {
      "cell_type": "code",
      "metadata": {
        "colab": {
          "base_uri": "https://localhost:8080/"
        },
        "id": "hEavUDohM-IG",
        "outputId": "4b194b9e-0b4d-46d6-9899-94667ac90d44"
      },
      "source": [
        "#binary search\n",
        "def binary(alist,key):\n",
        " \n",
        "  start = 0\n",
        "  end=len(alist)\n",
        "  while start<end :\n",
        "     mid = (start+end)//2\n",
        "     if alist[mid]>key :\n",
        "        end = mid\n",
        "     elif alist[mid]<key :\n",
        "        start=mid+1\n",
        "     else:\n",
        "        return mid \n",
        "  return -1\n",
        " \n",
        "alist = input('Enter the sorted list of numbers:')\n",
        "alist = alist.split()\n",
        "alist = [int(x) for x in alist]\n",
        "key = int(input('The number to search for :'))\n",
        "index = binary(alist,key)\n",
        "if index <0:\n",
        "   print('{}was not found.'.format(key))\n",
        "else :\n",
        "   print('{} was found at index {}.'.format(key,index))"
      ],
      "execution_count": 19,
      "outputs": [
        {
          "output_type": "stream",
          "text": [
            "Enter the sorted list of numbers:4 9 10 7\n",
            "The number to search for :6\n",
            "6was not found.\n"
          ],
          "name": "stdout"
        }
      ]
    },
    {
      "cell_type": "markdown",
      "metadata": {
        "id": "GnzdDbAWNJmG"
      },
      "source": [
        "5.write a program to create a singly linked list for the following operations."
      ]
    },
    {
      "cell_type": "code",
      "metadata": {
        "id": "wP5XSevyPzVw"
      },
      "source": [
        " \n",
        "class node:\n",
        "    def _init_(self,dval,nval):\n",
        "        self.dval=dval\n",
        "        self.nval=nval\n",
        "class slist:\n",
        "    def _init_(self):\n",
        "        self.head=None\n",
        "        self.tail=None\n",
        "        self.size=0\n",
        "    def len(self):\n",
        "        return self.size\n",
        "    def isempty(self):\n",
        "        return self.size==0\n",
        "    def addlast(self,e):\n",
        "        new=node(e,None)\n",
        "        if self.isempty():\n",
        "            self.head=new\n",
        "        else:\n",
        "            self.tail.nval=new\n",
        "        self.tail=new\n",
        "        self.size+=1\n",
        "    def display(self):\n",
        "        p=self.head\n",
        "        while p:\n",
        "            print(p.dval,end='--')\n",
        "            p=p.nval\n",
        "        print(' ')\n",
        "    def removefirst(self):\n",
        "        if self.isempty():\n",
        "            print('empty list')\n",
        "            return\n",
        "        print('element deleted form the list is',self.head.dval)\n",
        "        self.head=self.head.nval\n",
        "        self.size-=1\n",
        "        if self.isempty():\n",
        "            self.tail=None\n",
        "            return\n",
        "    def removelast(self):\n",
        "        if self.isempty():\n",
        "            print('empty list')\n",
        "            return\n",
        "        temp=self.head\n",
        "        i=1\n",
        "        while i<self.len()-1:\n",
        "            temp=temp.nval\n",
        "            i+=1\n",
        "        self.tail=temp\n",
        "        temp=temp.nval\n",
        "        x=temp.nval\n",
        "        self.tail.nval=None\n",
        "        self.size-=1\n",
        "        return x\n",
        "    def count(self):\n",
        "        i=0\n",
        "        p=self.head\n",
        "        while p:\n",
        "            p=p.nval\n",
        "            i+=1\n",
        "            return i\n",
        "    def search(self,el):\n",
        "        p=self.head\n",
        "        i=0\n",
        "        while (i<(self.len())):\n",
        "            print(p.dval)\n",
        "            if p.dval==el:\n",
        "                print('element is found')\n",
        "                return\n",
        "            p=p.nval\n",
        "            i+=1\n",
        "        print('element is not found')"
      ],
      "execution_count": 26,
      "outputs": []
    },
    {
      "cell_type": "markdown",
      "metadata": {
        "id": "fo9IK258Uqn-"
      },
      "source": [
        "6.write a program to create a doubly linked list for the following operations."
      ]
    },
    {
      "cell_type": "code",
      "metadata": {
        "id": "t4OFZSgVU5fN"
      },
      "source": [
        " \n",
        "class Node:\n",
        "    def init(self,preval,dataval,nextval):\n",
        "        self.dataval=dataval\n",
        "        self.nextval=nextval\n",
        "        self.preval=preval\n",
        "class dlist:\n",
        "    def init(self):\n",
        "        self.head=None\n",
        "        self.tail=None\n",
        "        self.size=0\n",
        "    def len(self):\n",
        "        return self.size\n",
        "    def isempty(self):\n",
        "        return self.size==0\n",
        "    def addlast(self,ele):\n",
        "        new=Node(None,ele,None)\n",
        "        if self.isempty():\n",
        "            self.head=new\n",
        "            self.tail=new\n",
        "        else:\n",
        "            self.tail.nextval=new\n",
        "            new.preval=self.tail\n",
        "            self.tail=new\n",
        "        self.size+=1\n",
        "    def display(self):\n",
        "        temp=self.head\n",
        "        while (temp):\n",
        "            print(temp.dataval,end='--')\n",
        "            temp=temp.nextval\n",
        "    def removelast(self):\n",
        "        if self.isempty():\n",
        "            print('empty list')\n",
        "            return\n",
        "        print('deleted element is :',self.tail.dataval)\n",
        "        self.tail.preval.nextval=None\n",
        "        self.tail=self.tail.preval\n",
        "        self.size-=1\n",
        "    def removefirst(self):\n",
        "        if self.isempty():\n",
        "            print('empty list')\n",
        "            return\n",
        "        else:\n",
        "            print('deleted element is :',self.head.dataval)\n",
        "            self.head.nextval=self.head\n",
        "            self.head.preval=None\n",
        "            self.size-=1\n",
        "            return\n",
        "    def search(self,ele):\n",
        "        temp=self.head\n",
        "        i=0\n",
        "        while(temp):\n",
        "            print('yes')\n",
        "            if temp.dataval==ele:\n",
        "                print('element found')\n",
        "                return\n",
        "            i+=1\n",
        "            temp=temp.nextval"
      ],
      "execution_count": 27,
      "outputs": []
    },
    {
      "cell_type": "markdown",
      "metadata": {
        "id": "eaN805JwVHW9"
      },
      "source": [
        "7.write a program to create a circula singly linked list for adding and deleting node."
      ]
    },
    {
      "cell_type": "code",
      "metadata": {
        "id": "pn_zs3_iVbTb"
      },
      "source": [
        " \n",
        "class Node:\n",
        "    def init(self,preval,dataval,nextval):\n",
        "        self.dataval=dataval\n",
        "        self.nextval=nextval\n",
        "        self.preval=preval\n",
        "class dlist:\n",
        "    def init(self):\n",
        "        self.head=None\n",
        "        self.tail=None\n",
        "        self.size=0\n",
        "    def len(self):\n",
        "        return self.size\n",
        "    def isempty(self):\n",
        "        return self.size==0\n",
        "    def addlast(self,ele):\n",
        "        new=Node(None,ele,None)\n",
        "        if self.isempty():\n",
        "            self.head=new\n",
        "            self.tail=new\n",
        "        else:\n",
        "            self.tail.nextval=new\n",
        "            new.preval=self.tail\n",
        "            self.tail=new\n",
        "        self.size+=1\n",
        "    def display(self):\n",
        "        temp=self.head\n",
        "        while (temp):\n",
        "            print(temp.dataval,end='--')\n",
        "            temp=temp.nextval\n",
        "    def removelast(self):\n",
        "        if self.isempty():\n",
        "            print('empty list')\n",
        "            return\n",
        "        print('deleted element is :',self.tail.dataval)\n",
        "        self.tail.preval.nextval=None\n",
        "        self.tail=self.tail.preval\n",
        "        self.size-=1\n",
        "    def removefirst(self):\n",
        "        if self.isempty():\n",
        "            print('empty list')\n",
        "            return\n",
        "        else:\n",
        "            print('deleted element is :',self.head.dataval)\n",
        "            self.head.nextval=self.head\n",
        "            self.head.preval=None\n",
        "            self.size-=1\n",
        "            return\n",
        "    def search(self,ele):\n",
        "        temp=self.head\n",
        "        i=0\n",
        "        while(temp):\n",
        "            print('yes')\n",
        "            if temp.dataval==ele:\n",
        "                print('element found')\n",
        "                return\n",
        "            i+=1\n",
        "            temp=temp.nextval"
      ],
      "execution_count": 28,
      "outputs": []
    },
    {
      "cell_type": "markdown",
      "metadata": {
        "id": "NLx45Fn2VnTR"
      },
      "source": [
        " 8.write a program to create a stack and perform various operation on it."
      ]
    },
    {
      "cell_type": "code",
      "metadata": {
        "id": "VKQ57M1nYp_a"
      },
      "source": [
        " class Stack:\n",
        "    def _init_(self):\n",
        "        self.items = []\n",
        "\n",
        "    def is_empty(self):\n",
        "        return self.items == []\n",
        "\n",
        "    def push(self, data):\n",
        "        self.items.append(data)\n",
        "\n",
        "    def pop(self):\n",
        "        return self.items.pop()\n",
        "\n",
        "\n",
        "s = Stack()\n",
        "while True:\n",
        "    print('push <value>')\n",
        "    print('pop')\n",
        "    print('quit')\n",
        "    do = input('perform operation').split()\n",
        "\n",
        "    operation = do[0].strip().lower()\n",
        "    if operation == 'push':\n",
        "        s.push(int(do[1]))\n",
        "    elif operation == 'pop':\n",
        "        if s.is_empty():\n",
        "            print('Stack is empty.')\n",
        "        else:\n",
        "            print('Popped value: ', s.pop())\n",
        "    elif operation == 'quit':\n",
        "        break"
      ],
      "execution_count": null,
      "outputs": []
    },
    {
      "cell_type": "markdown",
      "metadata": {
        "id": "kZbE24d1XXjf"
      },
      "source": [
        " 9.write a program to convert the inflix expression into postfix form."
      ]
    },
    {
      "cell_type": "code",
      "metadata": {
        "id": "Y8IlfeLxZihL"
      },
      "source": [
        " \n",
        "class infix_to_postfix:\n",
        "    precedence={'^':5,'*':4,'/':4,'+':3,'-':3,'(':2,')':1}\n",
        "    def _init_(self):\n",
        "        self.items=[]\n",
        "        self.size=-1\n",
        "    def push(self,value):\n",
        "        self.items.append(value)\n",
        "        self.size+=1\n",
        "    def pop(self):\n",
        "        if self.isempty():\n",
        "            return 0\n",
        "        else:\n",
        "            self.size-=1\n",
        "            return self.items.pop()\n",
        "    def isempty(self):\n",
        "        if(self.size==-1):\n",
        "            return True\n",
        "        else:\n",
        "            return False\n",
        "    def seek(self):\n",
        "        if self.isempty():\n",
        "            return false\n",
        "        else:\n",
        "            return self.items[self.size]\n",
        "    def isOperand(self,i):\n",
        "        if i in 'ABCDEFGHIJKLMNOPQRSTUVWXYZ':\n",
        "            return True\n",
        "        else:\n",
        "            return False\n",
        "    def infixtopostfix (self,expr):\n",
        "        postfix=\"\"\n",
        "        print('postfix expression after every iteration is:')\n",
        "        for i in expr:\n",
        "            if(len(expr)%2==0):\n",
        "                print(\"Incorrect infix expr\")\n",
        "                return False\n",
        "            elif(self.isOperand(i)):\n",
        "                postfix +=i\n",
        "            elif(i in '+-*/^'):\n",
        "                while(len(self.items)and self.precedence[i]<=self.precedence[self.seek()]):\n",
        "                    postfix+=self.pop()\n",
        "                self.push(i)\n",
        "            elif i is '(':\n",
        "                self.push(i)\n",
        "            elif i is ')':\n",
        "                o=self.pop()\n",
        "                while o!='(':\n",
        "                    postfix +=o\n",
        "                    o=self.pop()\n",
        "            print(postfix)\n",
        "                #end of for\n",
        "        while len(self.items):\n",
        "            if(self.seek()=='('):\n",
        "                self.pop()\n",
        "            else:\n",
        "                postfix+=self.pop()\n",
        "        return postfix\n",
        "s=infix_to_postfix()\n",
        "expr=input('enter the expression ')\n",
        "result=s.infixtopostfix(expr)\n",
        "if (result!=False):\n",
        "    print(\"the postfix expr of :\",expr,\"is\",result)"
      ],
      "execution_count": null,
      "outputs": []
    },
    {
      "cell_type": "markdown",
      "metadata": {
        "id": "M2ufYO0SZllL"
      },
      "source": [
        "10.write a program to create a queue and perform various operations on it."
      ]
    },
    {
      "cell_type": "code",
      "metadata": {
        "id": "ZyHj-p10cwig"
      },
      "source": [
        " \n",
        "class Node:\n",
        "    def _init_(self, element, next):\n",
        "        self.element = element\n",
        "        self.next = next\n",
        " \n",
        "class QueuesLinked:\n",
        "    def _init_(self):\n",
        "        self.front = None\n",
        "        self.rear = None\n",
        "        self.size = 0\n",
        " \n",
        "    def _len_(self):\n",
        "        return self.size\n",
        " \n",
        "    def isempty(self):\n",
        "        return self.size == 0\n",
        " \n",
        "    def enqueue(self, e):\n",
        "        newest = Node(e, None)\n",
        "        if self.isempty():\n",
        "            self.front = newest\n",
        "        else:\n",
        "            self.rear.next = newest\n",
        "        self.rear = newest\n",
        "        self.size += 1\n",
        " \n",
        "    def dequeue(self):\n",
        "        if self.isempty():\n",
        "            print('Queue is empty')\n",
        "            return\n",
        "        e = self.front.element\n",
        "        self.front = self.front.next\n",
        "        self.size -= 1\n",
        "        if self.isempty():\n",
        "            self.rear = None\n",
        "        return e\n",
        " \n",
        "    def first(self):\n",
        "        if self.isempty():\n",
        "            print('Queue is empty')\n",
        "            return\n",
        "        return self.front.element\n",
        " \n",
        "    def display(self):\n",
        "        p = self.front\n",
        "        while p:\n",
        "            print(p.element,end=' <-- ')\n",
        "            p = p.next\n",
        "        print()\n",
        " \n",
        " \n",
        "Q = QueuesLinked()\n",
        "Q.enqueue(5)\n",
        "Q.enqueue(3)\n",
        "print('Queue:')\n",
        "Q.display()\n",
        "print('Queue Length:', len(Q))\n",
        "ele = Q.dequeue()\n",
        "print('Queue:')\n",
        "Q.display()\n",
        "print('Queue Length:', len(Q))\n",
        "print('Removed Element:',ele)\n",
        "print('Is Queue Empty:',Q.isempty())\n",
        "Q.enqueue(7)\n",
        "print('Queue:')\n",
        "Q.display()\n",
        "print('Queue Length:', len(Q))\n",
        "Q.enqueue(12)\n",
        "print('Queue:')\n",
        "Q.display()\n",
        "print('Queue Length:', len(Q))\n",
        "ele = Q.dequeue()\n",
        "print('Queue:')\n",
        "Q.display()\n",
        "print('Queue Length:', len(Q))\n",
        "print('Removed Element:',ele)\n",
        "print('First Element:',Q.first())"
      ],
      "execution_count": null,
      "outputs": []
    },
    {
      "cell_type": "markdown",
      "metadata": {
        "id": "cpaoTrX8cx3g"
      },
      "source": [
        "11.write a program to create a binary tree and perform various travarsals."
      ]
    },
    {
      "cell_type": "code",
      "metadata": {
        "id": "4QC0kr8yeY2w"
      },
      "source": [
        " \n",
        "class Node:\n",
        "    def _init_(self,data):\n",
        "        self.left = None\n",
        "        self.right = None\n",
        "        self.data = data \n",
        " \n",
        "#To insert a new node\n",
        "    def insert(self,child,direction):\n",
        "        if direction == \"right\":\n",
        "            self.right = child \n",
        "        elif direction == \"left\":\n",
        "            self.left = child \n",
        " \n",
        " \n",
        "    def PrintTree(self):\n",
        "        if self.left:\n",
        "            self.left.PrintTree()\n",
        "        if self.right:\n",
        "            self.right.PrintTree()\n",
        "        print(self.data)\n",
        " \n",
        "#Use the insert method to add nodes \n",
        "A = Node(\"A\")\n",
        "B = Node(\"B\")\n",
        "C = Node(\"C\")\n",
        "D = Node(\"D\")\n",
        "E = Node(\"E\")\n",
        "F = Node(\"F\")\n",
        "A.insert(B,\"left\")\n",
        "B.insert(C,\"right\")\n",
        "C.insert(D,\"left\")\n",
        "A.insert(E,\"right\")\n",
        "E.insert(F,\"right\")\n",
        "A.PrintTree()"
      ],
      "execution_count": null,
      "outputs": []
    },
    {
      "cell_type": "markdown",
      "metadata": {
        "id": "KezMyyd8fS06"
      },
      "source": [
        "12.write a program to create a binary search tree and perform search operations."
      ]
    },
    {
      "cell_type": "code",
      "metadata": {
        "id": "peLLAfvnfzdd"
      },
      "source": [
        " \n",
        "class BST():\n",
        "  def __init__(self,data):\n",
        "    self.data=data\n",
        "    self.left=None\n",
        "    self.right=None\n",
        " \n",
        "  \n",
        "  def addchild(self,data):\n",
        "    if data==self.data:\n",
        "      return\n",
        "    \n",
        "    if data<self.data:\n",
        "      if self.left:\n",
        "        self.left.addchild(data)\n",
        "      else:\n",
        "        self.left=BST(data)\n",
        " \n",
        "    else:\n",
        "      if self.right:\n",
        "        self.right.addchild(data)\n",
        "      else:\n",
        "        self.right=BST(data)\n",
        " \n",
        " \n",
        "  def inorder(self):\n",
        "    elements=[]\n",
        "    if self.left:\n",
        "      elements+=self.left.inorder()\n",
        "    if self.data:\n",
        "      elements.append(self.data)\n",
        "    if self.right:\n",
        "      elements+=self.right.inorder()\n",
        "    return elements\n",
        " \n",
        " \n",
        "  def preorder(self):\n",
        "    elements=[]\n",
        "    if self.data:\n",
        "      elements.append(self.data)\n",
        "    if self.left:\n",
        "      elements+=self.left.inorder()\n",
        "    if self.right:\n",
        "      elements+=self.right.inorder()\n",
        "    return elements\n",
        " \n",
        "  \n",
        "  def postorder(self):\n",
        "    elements=[]\n",
        "    if self.left:\n",
        "      elements+=self.left.inorder()\n",
        "    if self.right:\n",
        "      elements+=self.right.inorder()\n",
        "    if self.data:\n",
        "      elements.append(self.data)\n",
        "    return elements\n",
        " \n",
        "    \n",
        "  def search(self,val):\n",
        "    if val==self.data:\n",
        "      return True\n",
        "    if val<self.data:\n",
        "      if self.left:\n",
        "        val=self.left.search(val)\n",
        "      else:\n",
        "        return False\n",
        "    else: \n",
        "      if self.right: \n",
        "        val=self.right.search(val)\n",
        "      else:\n",
        "        return False\n",
        "    return val\n",
        " \n",
        "def build_tree(elements):\n",
        "  root=BST(elements[0])\n",
        "  for i in range(1,len(elements)):\n",
        "    root.addchild(elements[i])\n",
        "  return root\n",
        " \n",
        "if _name==\"main_\":\n",
        "  numbers=[17, 4, 1, 20, 9, 23, 18, 34]\n",
        "  numbers_tree=build_tree(numbers)\n",
        "  print(numbers_tree.inorder())\n",
        "  print(numbers_tree.preorder())\n",
        "  print(numbers_tree.postorder())\n",
        "  \n",
        "  print(numbers_tree.search(4))\n",
        "  print(numbers_tree.search(10)"
      ],
      "execution_count": null,
      "outputs": []
    }
  ]
}