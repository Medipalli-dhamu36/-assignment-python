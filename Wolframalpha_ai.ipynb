{
  "nbformat": 4,
  "nbformat_minor": 0,
  "metadata": {
    "colab": {
      "name": "Wolframalpha.ai",
      "provenance": [],
      "authorship_tag": "ABX9TyPcj4e7GPP+R0yRi8mcgJCx",
      "include_colab_link": true
    },
    "kernelspec": {
      "name": "python3",
      "display_name": "Python 3"
    }
  },
  "cells": [
    {
      "cell_type": "markdown",
      "metadata": {
        "id": "view-in-github",
        "colab_type": "text"
      },
      "source": [
        "<a href=\"https://colab.research.google.com/github/charitha0606/-assignment-python/blob/master/Wolframalpha_ai.ipynb\" target=\"_parent\"><img src=\"https://colab.research.google.com/assets/colab-badge.svg\" alt=\"Open In Colab\"/></a>"
      ]
    },
    {
      "cell_type": "code",
      "metadata": {
        "colab": {
          "base_uri": "https://localhost:8080/"
        },
        "id": "r_Brhj70Zy-j",
        "outputId": "66a1c16b-3bfe-499d-bd71-74652b849a4a"
      },
      "source": [
        "pip install wolframalpha==4.0.0 api"
      ],
      "execution_count": 1,
      "outputs": [
        {
          "output_type": "stream",
          "text": [
            "Collecting wolframalpha==4.0.0\n",
            "  Downloading https://files.pythonhosted.org/packages/2a/05/806619147b060159520a0e1ee48975a44d57b3e02c9a76c2f8a438e35e3f/wolframalpha-4.0.0-py36-none-any.whl\n",
            "Collecting api\n",
            "  Downloading https://files.pythonhosted.org/packages/6a/e0/6b3451133002547c198c89af9a71577b186086a010afe709613c99d1b3dd/api-0.0.7.tar.gz\n",
            "Collecting xmltodict\n",
            "  Downloading https://files.pythonhosted.org/packages/28/fd/30d5c1d3ac29ce229f6bdc40bbc20b28f716e8b363140c26eff19122d8a5/xmltodict-0.12.0-py2.py3-none-any.whl\n",
            "Collecting jaraco.itertools>=2.0\n",
            "  Downloading https://files.pythonhosted.org/packages/03/f1/691b3d104db8d2a0c46bb18b01cea3442c358d79ae4696fff6d74c80eb6d/jaraco.itertools-5.0.0-py2.py3-none-any.whl\n",
            "Requirement already satisfied: six in /usr/local/lib/python3.6/dist-packages (from wolframalpha==4.0.0) (1.15.0)\n",
            "Requirement already satisfied: requests in /usr/local/lib/python3.6/dist-packages (from api) (2.23.0)\n",
            "Collecting nose\n",
            "\u001b[?25l  Downloading https://files.pythonhosted.org/packages/15/d8/dd071918c040f50fa1cf80da16423af51ff8ce4a0f2399b7bf8de45ac3d9/nose-1.3.7-py3-none-any.whl (154kB)\n",
            "\u001b[K     |████████████████████████████████| 163kB 13.4MB/s \n",
            "\u001b[?25hRequirement already satisfied: inflect in /usr/local/lib/python3.6/dist-packages (from jaraco.itertools>=2.0->wolframalpha==4.0.0) (2.1.0)\n",
            "Requirement already satisfied: more-itertools>=4.0.0 in /usr/local/lib/python3.6/dist-packages (from jaraco.itertools>=2.0->wolframalpha==4.0.0) (8.6.0)\n",
            "Requirement already satisfied: certifi>=2017.4.17 in /usr/local/lib/python3.6/dist-packages (from requests->api) (2020.6.20)\n",
            "Requirement already satisfied: urllib3!=1.25.0,!=1.25.1,<1.26,>=1.21.1 in /usr/local/lib/python3.6/dist-packages (from requests->api) (1.24.3)\n",
            "Requirement already satisfied: chardet<4,>=3.0.2 in /usr/local/lib/python3.6/dist-packages (from requests->api) (3.0.4)\n",
            "Requirement already satisfied: idna<3,>=2.5 in /usr/local/lib/python3.6/dist-packages (from requests->api) (2.10)\n",
            "Building wheels for collected packages: api\n",
            "  Building wheel for api (setup.py) ... \u001b[?25l\u001b[?25hdone\n",
            "  Created wheel for api: filename=api-0.0.7-cp36-none-any.whl size=2327 sha256=51ebd9d21dfe18af5cad153802f827729d100059f1ada60ccd0123a72ec396ca\n",
            "  Stored in directory: /root/.cache/pip/wheels/8e/b3/13/6fb6612d6dd2d4bc2dfa783e9be7554e7c2f276912d3cb850e\n",
            "Successfully built api\n",
            "Installing collected packages: xmltodict, jaraco.itertools, wolframalpha, nose, api\n",
            "Successfully installed api-0.0.7 jaraco.itertools-5.0.0 nose-1.3.7 wolframalpha-4.0.0 xmltodict-0.12.0\n"
          ],
          "name": "stdout"
        }
      ]
    },
    {
      "cell_type": "code",
      "metadata": {
        "id": "eFIg9DklaEYt"
      },
      "source": [
        "import wolframalpha"
      ],
      "execution_count": 2,
      "outputs": []
    },
    {
      "cell_type": "code",
      "metadata": {
        "id": "FnzYlbeVaJNh"
      },
      "source": [
        "client=wolframalpha.Client('828HLV-5JAA579R3K    ')"
      ],
      "execution_count": 11,
      "outputs": []
    },
    {
      "cell_type": "code",
      "metadata": {
        "colab": {
          "base_uri": "https://localhost:8080/"
        },
        "id": "nQ-tnV81iDoL",
        "outputId": "701fbb47-338a-4f73-cb60-a7644052c5c3"
      },
      "source": [
        " while True:\n",
        "  query=str(input('query: '))\n",
        "  res=client.query(query)\n",
        "  output=next(res.results).text\n",
        "  print(output)"
      ],
      "execution_count": null,
      "outputs": [
        {
          "output_type": "stream",
          "text": [
            "My name is Wolfram|Alpha.\n",
            "11 years 6 months 9.831 days\n",
            "(right now)\n",
            "I live on the internet.\n",
            "0\n"
          ],
          "name": "stdout"
        }
      ]
    }
  ]
}