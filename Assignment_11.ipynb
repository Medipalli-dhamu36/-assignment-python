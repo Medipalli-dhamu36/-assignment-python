{
  "nbformat": 4,
  "nbformat_minor": 0,
  "metadata": {
    "colab": {
      "name": "Assignment-11.ipynb",
      "provenance": [],
      "authorship_tag": "ABX9TyNjOCHDRqcSB/ei3Vt/eXfd",
      "include_colab_link": true
    },
    "kernelspec": {
      "name": "python3",
      "display_name": "Python 3"
    }
  },
  "cells": [
    {
      "cell_type": "markdown",
      "metadata": {
        "id": "view-in-github",
        "colab_type": "text"
      },
      "source": [
        "<a href=\"https://colab.research.google.com/github/charitha0606/-assignment-python/blob/master/Assignment_11.ipynb\" target=\"_parent\"><img src=\"https://colab.research.google.com/assets/colab-badge.svg\" alt=\"Open In Colab\"/></a>"
      ]
    },
    {
      "cell_type": "markdown",
      "metadata": {
        "id": "vyPiUkDObVwK",
        "colab_type": "text"
      },
      "source": [
        "1.write a python program to create a tuple."
      ]
    },
    {
      "cell_type": "code",
      "metadata": {
        "id": "71RSCB1Mbdge",
        "colab_type": "code",
        "colab": {
          "base_uri": "https://localhost:8080/",
          "height": 34
        },
        "outputId": "6ee7eeeb-ea26-4433-ef8c-896c5f4f786c"
      },
      "source": [
        "t=(3,6,9,12)\n",
        "print(t)"
      ],
      "execution_count": 1,
      "outputs": [
        {
          "output_type": "stream",
          "text": [
            "(3, 6, 9, 12)\n"
          ],
          "name": "stdout"
        }
      ]
    },
    {
      "cell_type": "code",
      "metadata": {
        "id": "lEQg7wz8b2vy",
        "colab_type": "code",
        "colab": {
          "base_uri": "https://localhost:8080/",
          "height": 34
        },
        "outputId": "e9d8b9c1-9c4d-47e6-ccef-1e0dc4865c54"
      },
      "source": [
        "t1=9,8,7,6\n",
        "t1"
      ],
      "execution_count": 2,
      "outputs": [
        {
          "output_type": "execute_result",
          "data": {
            "text/plain": [
              "(9, 8, 7, 6)"
            ]
          },
          "metadata": {
            "tags": []
          },
          "execution_count": 2
        }
      ]
    },
    {
      "cell_type": "markdown",
      "metadata": {
        "id": "ildDzOK9b-gG",
        "colab_type": "text"
      },
      "source": [
        "2.write a python program to create a tuple with different datatypes"
      ]
    },
    {
      "cell_type": "code",
      "metadata": {
        "id": "wkKp_JuVcIrI",
        "colab_type": "code",
        "colab": {
          "base_uri": "https://localhost:8080/",
          "height": 34
        },
        "outputId": "6d2b0b9f-6c4f-443a-b808-bc530e6f4fed"
      },
      "source": [
        "t2=(4)\n",
        "print(t2,type(t2))"
      ],
      "execution_count": 3,
      "outputs": [
        {
          "output_type": "stream",
          "text": [
            "4 <class 'int'>\n"
          ],
          "name": "stdout"
        }
      ]
    },
    {
      "cell_type": "code",
      "metadata": {
        "id": "qNWq1Oc4cnXM",
        "colab_type": "code",
        "colab": {
          "base_uri": "https://localhost:8080/",
          "height": 54
        },
        "outputId": "a4d644ce-e267-4605-b14a-de2c9114f6c8"
      },
      "source": [
        "t2=tuple(\"Banglore\")\n",
        "print(t2,type(t2))"
      ],
      "execution_count": 4,
      "outputs": [
        {
          "output_type": "stream",
          "text": [
            "('B', 'a', 'n', 'g', 'l', 'o', 'r', 'e') <class 'tuple'>\n"
          ],
          "name": "stdout"
        }
      ]
    },
    {
      "cell_type": "code",
      "metadata": {
        "id": "hJ8ZSXLSc_KM",
        "colab_type": "code",
        "colab": {
          "base_uri": "https://localhost:8080/",
          "height": 51
        },
        "outputId": "9bc5f8ea-31ec-47d6-bb5e-b55706eef875"
      },
      "source": [
        "t2=input(\"myself charitha\")\n",
        "print(type(t2))"
      ],
      "execution_count": 5,
      "outputs": [
        {
          "output_type": "stream",
          "text": [
            "myself charithaHow are you\n",
            "<class 'str'>\n"
          ],
          "name": "stdout"
        }
      ]
    },
    {
      "cell_type": "code",
      "metadata": {
        "id": "2Dzlowq9dnUv",
        "colab_type": "code",
        "colab": {
          "base_uri": "https://localhost:8080/",
          "height": 34
        },
        "outputId": "e2cf4bc5-7446-4f93-90a1-9314d4ed0150"
      },
      "source": [
        "t2=({\"anantapur\":1})\n",
        "print(type(t2))"
      ],
      "execution_count": 6,
      "outputs": [
        {
          "output_type": "stream",
          "text": [
            "<class 'dict'>\n"
          ],
          "name": "stdout"
        }
      ]
    },
    {
      "cell_type": "code",
      "metadata": {
        "id": "vOu34OlGeHPV",
        "colab_type": "code",
        "colab": {
          "base_uri": "https://localhost:8080/",
          "height": 34
        },
        "outputId": "6da01184-a6bf-4dd0-de7d-4bf096b4dbb8"
      },
      "source": [
        "t2=({3})\n",
        "print(type(t2))"
      ],
      "execution_count": 8,
      "outputs": [
        {
          "output_type": "stream",
          "text": [
            "<class 'set'>\n"
          ],
          "name": "stdout"
        }
      ]
    },
    {
      "cell_type": "code",
      "metadata": {
        "id": "s-XeTSkSexRx",
        "colab_type": "code",
        "colab": {
          "base_uri": "https://localhost:8080/",
          "height": 34
        },
        "outputId": "f0e4f0ac-69fa-45fc-ba87-3bf17873d88d"
      },
      "source": [
        "t2=([3.5])\n",
        "print(type(t2))"
      ],
      "execution_count": 9,
      "outputs": [
        {
          "output_type": "stream",
          "text": [
            "<class 'list'>\n"
          ],
          "name": "stdout"
        }
      ]
    },
    {
      "cell_type": "markdown",
      "metadata": {
        "id": "9TpVkgiqfDFy",
        "colab_type": "text"
      },
      "source": [
        "3.write a python program to convert a tuple to string"
      ]
    },
    {
      "cell_type": "code",
      "metadata": {
        "id": "qRsuSWKSff8i",
        "colab_type": "code",
        "colab": {
          "base_uri": "https://localhost:8080/",
          "height": 35
        },
        "outputId": "6b66246b-213c-4be7-e98f-d5b08673bf1a"
      },
      "source": [
        "tuple=('d','a','d')\n",
        "''.join(tuple)"
      ],
      "execution_count": 19,
      "outputs": [
        {
          "output_type": "execute_result",
          "data": {
            "application/vnd.google.colaboratory.intrinsic": {
              "type": "string"
            },
            "text/plain": [
              "'dad'"
            ]
          },
          "metadata": {
            "tags": []
          },
          "execution_count": 19
        }
      ]
    },
    {
      "cell_type": "markdown",
      "metadata": {
        "id": "e9bU_PVrh4Go",
        "colab_type": "text"
      },
      "source": [
        "4.write a python program to slice a tuple."
      ]
    },
    {
      "cell_type": "code",
      "metadata": {
        "id": "ADthQFQZiGzY",
        "colab_type": "code",
        "colab": {
          "base_uri": "https://localhost:8080/",
          "height": 35
        },
        "outputId": "5dec19fb-c2c9-465f-ae72-576c4db098a0"
      },
      "source": [
        "t3=('hello')\n",
        "t3[0:2]"
      ],
      "execution_count": 30,
      "outputs": [
        {
          "output_type": "execute_result",
          "data": {
            "application/vnd.google.colaboratory.intrinsic": {
              "type": "string"
            },
            "text/plain": [
              "'he'"
            ]
          },
          "metadata": {
            "tags": []
          },
          "execution_count": 30
        }
      ]
    },
    {
      "cell_type": "code",
      "metadata": {
        "id": "67IT9Y_Pk3cu",
        "colab_type": "code",
        "colab": {
          "base_uri": "https://localhost:8080/",
          "height": 34
        },
        "outputId": "5c87b429-ab53-426d-9319-63e4c327b90a"
      },
      "source": [
        "t3=(1,2,3,4,5,6,7,8,9)\n",
        "slice=t3[2:5]\n",
        "print(slice)"
      ],
      "execution_count": 31,
      "outputs": [
        {
          "output_type": "stream",
          "text": [
            "(3, 4, 5)\n"
          ],
          "name": "stdout"
        }
      ]
    },
    {
      "cell_type": "code",
      "metadata": {
        "id": "qfGpgE137dL2",
        "colab_type": "code",
        "colab": {
          "base_uri": "https://localhost:8080/",
          "height": 34
        },
        "outputId": "119da854-da2a-4092-d793-93d471eb6d42"
      },
      "source": [
        "t3=(1,2,3,4,5)\n",
        "t3=t3[:2]+t3[3:]\n",
        "print(t3)"
      ],
      "execution_count": 96,
      "outputs": [
        {
          "output_type": "stream",
          "text": [
            "(1, 2, 4, 5)\n"
          ],
          "name": "stdout"
        }
      ]
    },
    {
      "cell_type": "markdown",
      "metadata": {
        "id": "snHnCV33lCa-",
        "colab_type": "text"
      },
      "source": [
        "5.write a python program to find the len of the tuple."
      ]
    },
    {
      "cell_type": "code",
      "metadata": {
        "id": "sk4X6tzcmHuJ",
        "colab_type": "code",
        "colab": {
          "base_uri": "https://localhost:8080/",
          "height": 34
        },
        "outputId": "9f2551e6-1b67-4c7c-83e1-7cfa74642319"
      },
      "source": [
        "t4=(\"Cherry\",\"Indhu\",\"dheeru\")\n",
        "len(t4)"
      ],
      "execution_count": 32,
      "outputs": [
        {
          "output_type": "execute_result",
          "data": {
            "text/plain": [
              "3"
            ]
          },
          "metadata": {
            "tags": []
          },
          "execution_count": 32
        }
      ]
    },
    {
      "cell_type": "markdown",
      "metadata": {
        "id": "92XpjQ0gmZdw",
        "colab_type": "text"
      },
      "source": [
        "6.write a python program to convert a tuple to a dictionary."
      ]
    },
    {
      "cell_type": "code",
      "metadata": {
        "id": "GJYitfR8oKlF",
        "colab_type": "code",
        "colab": {
          "base_uri": "https://localhost:8080/",
          "height": 34
        },
        "outputId": "c1c53642-d2b0-47f2-8101-88d7ae9993fd"
      },
      "source": [
        "t=((1,\"mom\"),(2,\"dad\"))\n",
        "print(dict((y,x) for x,y in t))"
      ],
      "execution_count": 40,
      "outputs": [
        {
          "output_type": "stream",
          "text": [
            "{'mom': 1, 'dad': 2}\n"
          ],
          "name": "stdout"
        }
      ]
    },
    {
      "cell_type": "markdown",
      "metadata": {
        "id": "PgP4-T8bpSES",
        "colab_type": "text"
      },
      "source": [
        "7.write a python program to reverse a tuple."
      ]
    },
    {
      "cell_type": "code",
      "metadata": {
        "id": "8xeAd839pf4Q",
        "colab_type": "code",
        "colab": {
          "base_uri": "https://localhost:8080/",
          "height": 34
        },
        "outputId": "f74c7c7f-6af5-441b-b396-06da5f0f559b"
      },
      "source": [
        "t=(1,2,3,4,5,6)\n",
        "t[::-1]"
      ],
      "execution_count": 41,
      "outputs": [
        {
          "output_type": "execute_result",
          "data": {
            "text/plain": [
              "(6, 5, 4, 3, 2, 1)"
            ]
          },
          "metadata": {
            "tags": []
          },
          "execution_count": 41
        }
      ]
    },
    {
      "cell_type": "code",
      "metadata": {
        "id": "wSWajW2ipzm9",
        "colab_type": "code",
        "colab": {
          "base_uri": "https://localhost:8080/",
          "height": 35
        },
        "outputId": "a2bf4ccb-e6b1-47e4-d50e-54a19c8b78a5"
      },
      "source": [
        "t=(\"I love you Mom\")\n",
        "t[::-1]"
      ],
      "execution_count": 42,
      "outputs": [
        {
          "output_type": "execute_result",
          "data": {
            "application/vnd.google.colaboratory.intrinsic": {
              "type": "string"
            },
            "text/plain": [
              "'moM uoy evol I'"
            ]
          },
          "metadata": {
            "tags": []
          },
          "execution_count": 42
        }
      ]
    },
    {
      "cell_type": "markdown",
      "metadata": {
        "id": "VkFimqneqby0",
        "colab_type": "text"
      },
      "source": [
        "8.write a python program to convert a list of tuples in dictionary."
      ]
    },
    {
      "cell_type": "code",
      "metadata": {
        "id": "wXOpxH_86Sul",
        "colab_type": "code",
        "colab": {
          "base_uri": "https://localhost:8080/",
          "height": 54
        },
        "outputId": "90d31815-c0d0-4c21-99c7-2e8bc12ffb6d"
      },
      "source": [
        " print (dict([('bhumika', 10), ('reetu', 7), ('aishwarya', 18), ('gowtami', 45)]))"
      ],
      "execution_count": 91,
      "outputs": [
        {
          "output_type": "stream",
          "text": [
            "{'bhumika': 10, 'reetu': 7, 'aishwarya': 18, 'gowtami': 45}\n"
          ],
          "name": "stdout"
        }
      ]
    },
    {
      "cell_type": "markdown",
      "metadata": {
        "id": "8wWhfdhhuYLK",
        "colab_type": "text"
      },
      "source": [
        "9.write a python program to convert a list to a tuple."
      ]
    },
    {
      "cell_type": "code",
      "metadata": {
        "id": "XmzGI0Ha6yQg",
        "colab_type": "code",
        "colab": {
          "base_uri": "https://localhost:8080/",
          "height": 34
        },
        "outputId": "eeb00222-456c-4e4b-bfb8-06b6a320a5cc"
      },
      "source": [
        " def convert(list):\n",
        "  return (*list, )\n",
        "list = [1, 2, 3, 4] \n",
        "print(convert(list))"
      ],
      "execution_count": 95,
      "outputs": [
        {
          "output_type": "stream",
          "text": [
            "(1, 2, 3, 4)\n"
          ],
          "name": "stdout"
        }
      ]
    }
  ]
}