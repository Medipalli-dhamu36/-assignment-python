{
  "nbformat": 4,
  "nbformat_minor": 0,
  "metadata": {
    "colab": {
      "name": "Assignment-7.py",
      "provenance": [],
      "authorship_tag": "ABX9TyMY4D8lcbiyltyZYAPItfnQ",
      "include_colab_link": true
    },
    "kernelspec": {
      "name": "python3",
      "display_name": "Python 3"
    }
  },
  "cells": [
    {
      "cell_type": "markdown",
      "metadata": {
        "id": "view-in-github",
        "colab_type": "text"
      },
      "source": [
        "<a href=\"https://colab.research.google.com/github/charitha0606/-assignment-python/blob/master/Assignment_7_py.ipynb\" target=\"_parent\"><img src=\"https://colab.research.google.com/assets/colab-badge.svg\" alt=\"Open In Colab\"/></a>"
      ]
    },
    {
      "cell_type": "markdown",
      "metadata": {
        "id": "6o_OWgXTgeqt",
        "colab_type": "text"
      },
      "source": [
        " 1.python program to find the square root"
      ]
    },
    {
      "cell_type": "code",
      "metadata": {
        "id": "04x3dCiqhLHZ",
        "colab_type": "code",
        "colab": {
          "base_uri": "https://localhost:8080/",
          "height": 71
        },
        "outputId": "b064c427-f382-4943-c01e-147472736e47"
      },
      "source": [
        "num=float(input('enter a number to find the square root'))\n",
        "num_sqrt=num**0.5\n",
        "print(num_sqrt)"
      ],
      "execution_count": 4,
      "outputs": [
        {
          "output_type": "stream",
          "text": [
            "enter a number to find the square root8\n",
            "2.8284271247461903\n"
          ],
          "name": "stdout"
        }
      ]
    },
    {
      "cell_type": "code",
      "metadata": {
        "id": "ri-W-1U4mTkt",
        "colab_type": "code",
        "colab": {}
      },
      "source": [
        "def sq_root(num):\n",
        "  import math\n",
        "  n=math.sqrt(num)\n",
        "  print(\"the square root of\",num,\"is:\",n)"
      ],
      "execution_count": 27,
      "outputs": []
    },
    {
      "cell_type": "markdown",
      "metadata": {
        "id": "e9SUjGWcjRLb",
        "colab_type": "text"
      },
      "source": [
        "2.python program to check if a  number is positive,negative or 0"
      ]
    },
    {
      "cell_type": "code",
      "metadata": {
        "id": "bJzL1E-ijfBI",
        "colab_type": "code",
        "colab": {
          "base_uri": "https://localhost:8080/",
          "height": 51
        },
        "outputId": "c3c4e7bf-452b-4e12-dc53-55c11057e933"
      },
      "source": [
        "num=int(input('enter a number'))\n",
        "if(num==0):\n",
        "  print(\"num is zero\")\n",
        "else:\n",
        "  if num>0:\n",
        "   print(\"num is positive\")\n",
        "  else:\n",
        "   print(\"num is negative\")"
      ],
      "execution_count": 12,
      "outputs": [
        {
          "output_type": "stream",
          "text": [
            "enter a number6\n",
            "num is positive\n"
          ],
          "name": "stdout"
        }
      ]
    },
    {
      "cell_type": "code",
      "metadata": {
        "id": "uHJJRrcalvm9",
        "colab_type": "code",
        "colab": {
          "base_uri": "https://localhost:8080/",
          "height": 51
        },
        "outputId": "68f93564-4856-4b64-fdcf-d47ec29696ff"
      },
      "source": [
        " num=int(input('enter a number'))\n",
        "if(num==0):\n",
        "  print(\"num is zero\")\n",
        "else:\n",
        "  if num>0:\n",
        "   print(\"num is positive\")\n",
        "  else:\n",
        "   print(\"num is negative\")"
      ],
      "execution_count": 13,
      "outputs": [
        {
          "output_type": "stream",
          "text": [
            "enter a number-6\n",
            "num is negative\n"
          ],
          "name": "stdout"
        }
      ]
    },
    {
      "cell_type": "markdown",
      "metadata": {
        "id": "Eo-sW5_Ilyw_",
        "colab_type": "text"
      },
      "source": [
        "3.python program to check leapyear"
      ]
    },
    {
      "cell_type": "code",
      "metadata": {
        "id": "3uAJyvfDl61w",
        "colab_type": "code",
        "colab": {
          "base_uri": "https://localhost:8080/",
          "height": 51
        },
        "outputId": "68f51e18-b34e-490c-eaa5-c88021518822"
      },
      "source": [
        "year=int(input('enter year:'))\n",
        "if year%4==0 and year%100!=0:\n",
        "    print('its leap year',year)\n",
        "elif year%100==0:\n",
        "    print('its not leap year',year)\n",
        "elif year%400==0:\n",
        "    print('its leap year',year)\n",
        "else:\n",
        "    print('its not leap year',year)"
      ],
      "execution_count": 50,
      "outputs": [
        {
          "output_type": "stream",
          "text": [
            "enter year:2004\n",
            "its leap year 2004\n"
          ],
          "name": "stdout"
        }
      ]
    },
    {
      "cell_type": "markdown",
      "metadata": {
        "id": "wi3hReY2sttb",
        "colab_type": "text"
      },
      "source": [
        "4.python program to print the  Fibonacci sequence"
      ]
    },
    {
      "cell_type": "code",
      "metadata": {
        "id": "mZ715zSTs5M5",
        "colab_type": "code",
        "colab": {
          "base_uri": "https://localhost:8080/",
          "height": 173
        },
        "outputId": "9ddc79fd-a64f-4333-c105-0b83ad2c9007"
      },
      "source": [
        " nterms = int(input(\"How many terms? \"))\n",
        "n1, n2 = 0, 1\n",
        "count = 0\n",
        "if nterms <= 0:\n",
        "   print(\"Please enter a positive integer\")\n",
        "elif nterms == 1:\n",
        "   print(\"Fibonacci sequence upto\",nterms,\":\")\n",
        "   print(n1)\n",
        "else:\n",
        "   print(\"Fibonacci sequence:\")\n",
        "   while count < nterms:\n",
        "       print(n1)\n",
        "       nth = n1 + n2\n",
        "       n1 = n2\n",
        "       n2 = nth\n",
        "       count += 1"
      ],
      "execution_count": 51,
      "outputs": [
        {
          "output_type": "stream",
          "text": [
            "How many terms? 7\n",
            "Fibonacci sequence:\n",
            "0\n",
            "1\n",
            "1\n",
            "2\n",
            "3\n",
            "5\n",
            "8\n"
          ],
          "name": "stdout"
        }
      ]
    },
    {
      "cell_type": "markdown",
      "metadata": {
        "id": "HB58Lp0XttWw",
        "colab_type": "text"
      },
      "source": [
        "5.python program to check the Armstrong number"
      ]
    },
    {
      "cell_type": "code",
      "metadata": {
        "id": "daOO7Nayt68Q",
        "colab_type": "code",
        "colab": {
          "base_uri": "https://localhost:8080/",
          "height": 51
        },
        "outputId": "1c32e54e-baf9-4dc5-a1b9-b3d2fcf681c0"
      },
      "source": [
        "num = int(input(\"Enter a number: \"))\n",
        "sum = 0  \n",
        "temp = num\n",
        "while temp > 0:    \n",
        " digit = temp % 10\n",
        " sum += digit ** 3\n",
        " temp //= 10    \n",
        "if num == sum:     \n",
        "  print(num,\"is an Armstrong number\")  \n",
        "else:    \n",
        "  print(num,\"is not an Armstrong number\")"
      ],
      "execution_count": 60,
      "outputs": [
        {
          "output_type": "stream",
          "text": [
            "Enter a number: 67890\n",
            "67890 is not an Armstrong number\n"
          ],
          "name": "stdout"
        }
      ]
    },
    {
      "cell_type": "markdown",
      "metadata": {
        "id": "RfwXKOVZvES6",
        "colab_type": "text"
      },
      "source": [
        "6.python program to find Armstrong number is an interval"
      ]
    },
    {
      "cell_type": "code",
      "metadata": {
        "id": "Lnbx_s62vQ0Q",
        "colab_type": "code",
        "colab": {
          "base_uri": "https://localhost:8080/",
          "height": 173
        },
        "outputId": "99ebceaa-7cfd-4ab1-bd3e-bfdc2d70e305"
      },
      "source": [
        "lower = 100\n",
        "upper = 2000\n",
        "for num in range(lower, upper + 1):\n",
        "      order = len(str(num))\n",
        "      sum=0\n",
        "      temp = num  \n",
        "      while temp > 0:\n",
        "        digit = temp % 10\n",
        "        sum += digit ** order\n",
        "        temp //= 10\n",
        "        if num == sum:\n",
        "           print(num)"
      ],
      "execution_count": 79,
      "outputs": [
        {
          "output_type": "stream",
          "text": [
            "125\n",
            "153\n",
            "216\n",
            "370\n",
            "371\n",
            "407\n",
            "729\n",
            "1296\n",
            "1634\n"
          ],
          "name": "stdout"
        }
      ]
    }
  ]
}