{
  "nbformat": 4,
  "nbformat_minor": 0,
  "metadata": {
    "colab": {
      "name": "Experiment-1",
      "provenance": [],
      "authorship_tag": "ABX9TyNykQOl+sS8hIFnlzfzMxDh",
      "include_colab_link": true
    },
    "kernelspec": {
      "name": "python3",
      "display_name": "Python 3"
    }
  },
  "cells": [
    {
      "cell_type": "markdown",
      "metadata": {
        "id": "view-in-github",
        "colab_type": "text"
      },
      "source": [
        "<a href=\"https://colab.research.google.com/github/charitha0606/-assignment-python/blob/master/Experiment_1.ipynb\" target=\"_parent\"><img src=\"https://colab.research.google.com/assets/colab-badge.svg\" alt=\"Open In Colab\"/></a>"
      ]
    },
    {
      "cell_type": "markdown",
      "metadata": {
        "id": "m5LKQGBSfOKm"
      },
      "source": [
        "1.find minimum among the three numbers."
      ]
    },
    {
      "cell_type": "code",
      "metadata": {
        "id": "L2N5pZW6fXO9",
        "outputId": "b3b890f4-831c-4c03-ec7a-79f4928cc364",
        "colab": {
          "base_uri": "https://localhost:8080/",
          "height": 34
        }
      },
      "source": [
        "a,b,c=4,7,2\n",
        "if(a<=b and a<=c):\n",
        "   print(a,\"is the smallest\")\n",
        "elif(b<=c and b<=a):\n",
        "   print(b,\"is the smallest\")\n",
        "else:\n",
        "   print(c,\"is the smallest\")"
      ],
      "execution_count": 1,
      "outputs": [
        {
          "output_type": "stream",
          "text": [
            "2 is the smallest\n"
          ],
          "name": "stdout"
        }
      ]
    },
    {
      "cell_type": "markdown",
      "metadata": {
        "id": "uzTbl7Sng8Rx"
      },
      "source": [
        "2.find the GCD and LCM of two/three numbers."
      ]
    },
    {
      "cell_type": "code",
      "metadata": {
        "id": "i8NqzMn1hR4D",
        "outputId": "3dc1bbca-4e6c-4b51-db88-f4592a5497c2",
        "colab": {
          "base_uri": "https://localhost:8080/",
          "height": 68
        }
      },
      "source": [
        " def gcd(a,b):\n",
        "  if(b==0):\n",
        "    return a\n",
        "  else:\n",
        "    return gcd(b,a%b)\n",
        "a=int(input())\n",
        "b=int(input())\n",
        "GCD=gcd(a,b)\n",
        "print(GCD)"
      ],
      "execution_count": 6,
      "outputs": [
        {
          "output_type": "stream",
          "text": [
            "20\n",
            "22\n",
            "2\n"
          ],
          "name": "stdout"
        }
      ]
    },
    {
      "cell_type": "code",
      "metadata": {
        "id": "JkaeXW8Tikr0",
        "outputId": "f017d886-3947-4dd5-9190-b54de397b745",
        "colab": {
          "base_uri": "https://localhost:8080/",
          "height": 68
        }
      },
      "source": [
        " num1 = int(input())\n",
        "num2 = int(input())\n",
        "if(num1 > num2 ):\n",
        "    max= num1\n",
        "else:\n",
        "    max= num2\n",
        "while(True):\n",
        "    if(max % num1 == 0 and max % num2 == 0):   \n",
        "        print(max)\n",
        "        break;\n",
        "    max= max+ 1"
      ],
      "execution_count": 7,
      "outputs": [
        {
          "output_type": "stream",
          "text": [
            "10\n",
            "20\n",
            "20\n"
          ],
          "name": "stdout"
        }
      ]
    },
    {
      "cell_type": "markdown",
      "metadata": {
        "id": "FnyVwfwAjaZR"
      },
      "source": [
        " 3.check whether the given number is perfect."
      ]
    },
    {
      "cell_type": "code",
      "metadata": {
        "id": "jlwzhSDpjfg4",
        "outputId": "64332076-9d30-4937-f07b-c8a65033e343",
        "colab": {
          "base_uri": "https://localhost:8080/",
          "height": 34
        }
      },
      "source": [
        " def perfect_number(n):\n",
        "    sum = 0\n",
        "    for x in range(1, n):\n",
        "        if n % x == 0:\n",
        "            sum += x\n",
        "    return sum == n\n",
        "print(perfect_number(5))"
      ],
      "execution_count": 8,
      "outputs": [
        {
          "output_type": "stream",
          "text": [
            "False\n"
          ],
          "name": "stdout"
        }
      ]
    },
    {
      "cell_type": "markdown",
      "metadata": {
        "id": "ysmRXADjkUH_"
      },
      "source": [
        "4.Print twin primes up to a specified limit"
      ]
    },
    {
      "cell_type": "code",
      "metadata": {
        "id": "2mRSPsJJkmD1",
        "outputId": "344a338d-d429-4ecb-d78e-77f2022e2cad",
        "colab": {
          "base_uri": "https://localhost:8080/",
          "height": 188
        }
      },
      "source": [
        " def is_prime(n):\n",
        "   for i in range(5, n):\n",
        "      if n % i == 0:\n",
        "         return False\n",
        "   return True\n",
        " \n",
        "def generate_twins(start, end):\n",
        "   for i in range(start, end):\n",
        "      j = i + 2\n",
        "      if(is_prime(i) and is_prime(j)):\n",
        "         print(\"{:d} and {:d}\".format(i, j))\n",
        " \n",
        "generate_twins(5, 100)"
      ],
      "execution_count": 25,
      "outputs": [
        {
          "output_type": "stream",
          "text": [
            "5 and 7\n",
            "6 and 8\n",
            "7 and 9\n",
            "9 and 11\n",
            "11 and 13\n",
            "17 and 19\n",
            "29 and 31\n",
            "41 and 43\n",
            "59 and 61\n",
            "71 and 73\n"
          ],
          "name": "stdout"
        }
      ]
    },
    {
      "cell_type": "markdown",
      "metadata": {
        "id": "MX0IQN2tkztZ"
      },
      "source": [
        "5.Print the prime numbers upto a specified limit"
      ]
    },
    {
      "cell_type": "code",
      "metadata": {
        "id": "VbiU-HWSk7RF",
        "outputId": "eceb765d-eb65-4e50-cbbc-9f0c73213302",
        "colab": {
          "base_uri": "https://localhost:8080/",
          "height": 1000
        }
      },
      "source": [
        " lower = 600\n",
        "upper = 1000\n",
        " \n",
        "print(\"Prime numbers between\", lower, \"and\", upper, \"are:\")\n",
        " \n",
        "for num in range(lower, upper + 1):\n",
        "   if num > 1:\n",
        "       for i in range(2, num):\n",
        "           if (num % i) == 0:\n",
        "               break\n",
        "       else:\n",
        "           print(num)"
      ],
      "execution_count": 12,
      "outputs": [
        {
          "output_type": "stream",
          "text": [
            "Prime numbers between 600 and 1000 are:\n",
            "601\n",
            "607\n",
            "613\n",
            "617\n",
            "619\n",
            "631\n",
            "641\n",
            "643\n",
            "647\n",
            "653\n",
            "659\n",
            "661\n",
            "673\n",
            "677\n",
            "683\n",
            "691\n",
            "701\n",
            "709\n",
            "719\n",
            "727\n",
            "733\n",
            "739\n",
            "743\n",
            "751\n",
            "757\n",
            "761\n",
            "769\n",
            "773\n",
            "787\n",
            "797\n",
            "809\n",
            "811\n",
            "821\n",
            "823\n",
            "827\n",
            "829\n",
            "839\n",
            "853\n",
            "857\n",
            "859\n",
            "863\n",
            "877\n",
            "881\n",
            "883\n",
            "887\n",
            "907\n",
            "911\n",
            "919\n",
            "929\n",
            "937\n",
            "941\n",
            "947\n",
            "953\n",
            "967\n",
            "971\n",
            "977\n",
            "983\n",
            "991\n",
            "997\n"
          ],
          "name": "stdout"
        }
      ]
    },
    {
      "cell_type": "markdown",
      "metadata": {
        "id": "FRlyJNiplF_E"
      },
      "source": [
        "6.Find the sum of digits of a number. Check whether given number is Armstrong number or not."
      ]
    },
    {
      "cell_type": "code",
      "metadata": {
        "id": "M0wRTTWclRvN",
        "outputId": "9b5cdae6-0f45-4cb5-a242-98e6584cb693",
        "colab": {
          "base_uri": "https://localhost:8080/",
          "height": 51
        }
      },
      "source": [
        " num = int(input(\"Enter a number: \"))\n",
        " \n",
        "sum = 0\n",
        "temp = num\n",
        "while temp > 0:\n",
        "   digit = temp % 10\n",
        "   sum += digit ** 3\n",
        "   temp //= 10\n",
        " \n",
        "if num == sum:\n",
        "   print(num,\"is an Armstrong number\")\n",
        "else:\n",
        "   print(num,\"is not an Armstrong number\")"
      ],
      "execution_count": 13,
      "outputs": [
        {
          "output_type": "stream",
          "text": [
            "Enter a number: 6\n",
            "6 is not an Armstrong number\n"
          ],
          "name": "stdout"
        }
      ]
    },
    {
      "cell_type": "code",
      "metadata": {
        "id": "Uhlt4IKOljJ7",
        "outputId": "69d3d92b-105e-4f9b-9e32-b4cbadb082c9",
        "colab": {
          "base_uri": "https://localhost:8080/",
          "height": 51
        }
      },
      "source": [
        " num = int(input(\"Enter a number: \"))\n",
        " \n",
        "sum = 0\n",
        "temp = num\n",
        "while temp > 0:\n",
        "   digit = temp % 10\n",
        "   sum += digit ** 3\n",
        "   temp //= 10\n",
        " \n",
        "if num == sum:\n",
        "   print(num,\"is an Armstrong number\")\n",
        "else:\n",
        "   print(num,\"is not an Armstrong number\")"
      ],
      "execution_count": 18,
      "outputs": [
        {
          "output_type": "stream",
          "text": [
            "Enter a number: 54\n",
            "54 is not an Armstrong number\n"
          ],
          "name": "stdout"
        }
      ]
    },
    {
      "cell_type": "markdown",
      "metadata": {
        "id": "xB_moSmuly6q"
      },
      "source": [
        "7.swapping of two number"
      ]
    },
    {
      "cell_type": "code",
      "metadata": {
        "id": "Gv1G6om9l726",
        "outputId": "3b361ab6-51f2-402e-8edc-ff831636a596",
        "colab": {
          "base_uri": "https://localhost:8080/",
          "height": 85
        }
      },
      "source": [
        "x = 3\n",
        "y = 10\n",
        " \n",
        "print (\"Before swapping: \") \n",
        "print(\"Value of x : \", x, \" and y : \", y) \n",
        " \n",
        "x, y = y, x \n",
        " \n",
        "print (\"After swapping: \") \n",
        "print(\"Value of x : \", x, \" and y : \", y)"
      ],
      "execution_count": 20,
      "outputs": [
        {
          "output_type": "stream",
          "text": [
            "Before swapping: \n",
            "Value of x :  3  and y :  10\n",
            "After swapping: \n",
            "Value of x :  10  and y :  3\n"
          ],
          "name": "stdout"
        }
      ]
    },
    {
      "cell_type": "markdown",
      "metadata": {
        "id": "ey_ofJxgmjuv"
      },
      "source": [
        "8.Perform all the five arithmetic operations."
      ]
    },
    {
      "cell_type": "code",
      "metadata": {
        "id": "prvnUN90mtnb",
        "outputId": "f80ee447-f747-4704-954d-2727a3fd30d6",
        "colab": {
          "base_uri": "https://localhost:8080/",
          "height": 103
        }
      },
      "source": [
        "a= 50\n",
        "b = 20\n",
        "c = 10\n",
        " \n",
        "c = a + b\n",
        "print (\"Addition - Value of c is \", c)\n",
        " \n",
        "c = a - b\n",
        "print (\"Subtraction - Value of c is \", c)\n",
        " \n",
        "c = a * b\n",
        "print (\"Multiplication - Value of c is \", c)\n",
        " \n",
        "c = a / b\n",
        "print (\"Division - Value of c is \", c)\n",
        " \n",
        "c = a % b\n",
        "print (\"Modulus - Value of c is \", c)"
      ],
      "execution_count": 24,
      "outputs": [
        {
          "output_type": "stream",
          "text": [
            "Addition - Value of c is  70\n",
            "Subtraction - Value of c is  30\n",
            "Multiplication - Value of c is  1000\n",
            "Division - Value of c is  2.5\n",
            "Modulus - Value of c is  10\n"
          ],
          "name": "stdout"
        }
      ]
    }
  ]
}