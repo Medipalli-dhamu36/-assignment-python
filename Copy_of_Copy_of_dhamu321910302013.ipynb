{
  "nbformat": 4,
  "nbformat_minor": 0,
  "metadata": {
    "colab": {
      "name": "Copy of Copy of dhamu321910302013.ipynb",
      "provenance": [],
      "collapsed_sections": [],
      "authorship_tag": "ABX9TyP4W/nJd5OwKc1h8hKvJU7v",
      "include_colab_link": true
    },
    "kernelspec": {
      "name": "python3",
      "display_name": "Python 3"
    }
  },
  "cells": [
    {
      "cell_type": "markdown",
      "metadata": {
        "id": "view-in-github",
        "colab_type": "text"
      },
      "source": [
        "<a href=\"https://colab.research.google.com/github/Medipalli-dhamu36/-assignment-python/blob/master/Copy_of_Copy_of_dhamu321910302013.ipynb\" target=\"_parent\"><img src=\"https://colab.research.google.com/assets/colab-badge.svg\" alt=\"Open In Colab\"/></a>"
      ]
    },
    {
      "cell_type": "markdown",
      "metadata": {
        "id": "vUgIuUmvczM1"
      },
      "source": [
        " 1.write a pyhton program to print the following string in a specific format."
      ]
    },
    {
      "cell_type": "code",
      "metadata": {
        "colab": {
          "base_uri": "https://localhost:8080/"
        },
        "id": "wf37g5tnc0-T",
        "outputId": "b7d73f5b-fb8b-4e4b-dc7a-a879ca9bb162"
      },
      "source": [
        " print(\"Twinkle, twinkle, little star, \\n\\tHow I wonder what you are! \\n\\t\\tUp above the world so high, \\n\\t\\tLike a diamond in the sky. \\nTwinkle, twinkle, little star, \\n\\tHow I wonder what you are!\")"
      ],
      "execution_count": null,
      "outputs": [
        {
          "output_type": "stream",
          "text": [
            "Twinkle, twinkle, little star, \n",
            "\tHow I wonder what you are! \n",
            "\t\tUp above the world so high, \n",
            "\t\tLike a diamond in the sky. \n",
            "Twinkle, twinkle, little star, \n",
            "\tHow I wonder what you are!\n"
          ],
          "name": "stdout"
        }
      ]
    },
    {
      "cell_type": "markdown",
      "metadata": {
        "id": "o1vB83nUdKdw"
      },
      "source": [
        "2.Write a Python program to test whether a number is within 100 of 1000 or 2000."
      ]
    },
    {
      "cell_type": "code",
      "metadata": {
        "colab": {
          "base_uri": "https://localhost:8080/"
        },
        "id": "3Cvz6weMdLJS",
        "outputId": "6f9059fa-2cb7-4cd3-f87e-493e80ea5b6c"
      },
      "source": [
        " \n",
        "def number(n):\n",
        "  return((abs(1000-n<=100))or(abs(2000-n<=100)))\n",
        "print(number(200))\n",
        "print(number(2049))"
      ],
      "execution_count": null,
      "outputs": [
        {
          "output_type": "stream",
          "text": [
            "0\n",
            "1\n"
          ],
          "name": "stdout"
        }
      ]
    },
    {
      "cell_type": "markdown",
      "metadata": {
        "id": "OyhCHFsFdN-I"
      },
      "source": [
        " 3. Write a Python program to calculate the sum of three given numbers, if the values are equal\n",
        "then return three times of their sum."
      ]
    },
    {
      "cell_type": "code",
      "metadata": {
        "colab": {
          "base_uri": "https://localhost:8080/"
        },
        "id": "6g6gMpFBdRJo",
        "outputId": "a051b269-9214-472b-c356-fa9b2551fd95"
      },
      "source": [
        "x=int(input(\"enter the number\"))\n",
        "y=int(input(\"enter the number\"))\n",
        "z=int(input(\"enter the number\"))\n",
        "sum1=x + y + z\n",
        "if(x==y==z):\n",
        "  sum=sum1*3\n",
        "  print(\"sum\")\n",
        "else:\n",
        "  print(sum1)"
      ],
      "execution_count": null,
      "outputs": [
        {
          "output_type": "stream",
          "text": [
            "enter the number6\n",
            "enter the number8\n",
            "enter the number0\n",
            "14\n"
          ],
          "name": "stdout"
        }
      ]
    },
    {
      "cell_type": "markdown",
      "metadata": {
        "id": "0O870Q5PdUN2"
      },
      "source": [
        " 4. Write a Python program to find whether a given number (accept from the user) is even or\n",
        "odd, print out an appropriate message to the user."
      ]
    },
    {
      "cell_type": "code",
      "metadata": {
        "colab": {
          "base_uri": "https://localhost:8080/"
        },
        "id": "zqo1IXPNdhZf",
        "outputId": "6cb109bb-af55-479e-d832-ac2626338366"
      },
      "source": [
        "num=int(input(\"enter the number\"))\n",
        "flag=num%2\n",
        "if(flag==0):\n",
        "  print(\"even number\")\n",
        "else:\n",
        "  print(\"odd number\")"
      ],
      "execution_count": null,
      "outputs": [
        {
          "output_type": "stream",
          "text": [
            "enter the number8\n",
            "even number\n"
          ],
          "name": "stdout"
        }
      ]
    },
    {
      "cell_type": "markdown",
      "metadata": {
        "id": "kCU1gppXdmmy"
      },
      "source": [
        "5. Write a Python program to get a string made of the first 2 and the last 2 chars from a given\n",
        "string. If the string length is less than 2, return instead of the empty string."
      ]
    },
    {
      "cell_type": "code",
      "metadata": {
        "colab": {
          "base_uri": "https://localhost:8080/"
        },
        "id": "jTIkqikVdnQm",
        "outputId": "f7001dc0-37df-49e9-a80e-fcaabfc990d0"
      },
      "source": [
        "def string(str):\n",
        "  if(len(str)<2):\n",
        "    return ''\n",
        "  else:\n",
        "    return(str[0:2]+str[-2:])\n",
        "print(string(\"corona holidays\"))"
      ],
      "execution_count": null,
      "outputs": [
        {
          "output_type": "stream",
          "text": [
            "coys\n"
          ],
          "name": "stdout"
        }
      ]
    },
    {
      "cell_type": "markdown",
      "metadata": {
        "id": "kHcGUjcIdspg"
      },
      "source": [
        "6. Write a Python program to get a single string from two given strings, separated by a space\n",
        "and swap the first two characters of each string."
      ]
    },
    {
      "cell_type": "code",
      "metadata": {
        "colab": {
          "base_uri": "https://localhost:8080/"
        },
        "id": "0k8JYhqPdtKH",
        "outputId": "3c22505a-0962-4c3b-ba9e-f28bc57bfaea"
      },
      "source": [
        "string1=str(input(\"enter the string\"))\n",
        "string2=str(input(\"enter the string\"))\n",
        "newstring1=string2[:2]+string1[2:]\n",
        "newstring2=string1[:2]+string2[2:]\n",
        "print(newstring1+' '+newstring2)"
      ],
      "execution_count": null,
      "outputs": [
        {
          "output_type": "stream",
          "text": [
            "enter the stringHigh\n",
            "enter the stringLow\n",
            "Logh Hiw\n"
          ],
          "name": "stdout"
        }
      ]
    },
    {
      "cell_type": "markdown",
      "metadata": {
        "id": "j2uGkXVld1CQ"
      },
      "source": [
        "7. Write a Python program to find the first appearance of the substring 'not' and 'poor' from a\n",
        "given string, if 'not' follows the 'poor', replace the whole 'not'...'poor' substring with 'good'.\n",
        "Return the resulting string"
      ]
    },
    {
      "cell_type": "code",
      "metadata": {
        "colab": {
          "base_uri": "https://localhost:8080/"
        },
        "id": "mxyn46btd1iK",
        "outputId": "2320a03c-b8de-4c83-f3aa-15b93da26cbf"
      },
      "source": [
        "def not_poor(str1):\n",
        "  snot = str1.find('not')\n",
        "  spoor = str1.find('poor')\n",
        "  if spoor > snot and snot>0 and spoor>0:\n",
        "    str1 = str1.replace(str1[snot:(spoor+4)], 'good')\n",
        "    return str1\n",
        "  else:\n",
        "    return str1\n",
        "print(not_poor('The lyrics is not that poor!'))\n",
        "print(not_poor('The lyrics is poor!'))"
      ],
      "execution_count": null,
      "outputs": [
        {
          "output_type": "stream",
          "text": [
            "The lyrics is good!\n",
            "The lyrics is poor!\n"
          ],
          "name": "stdout"
        }
      ]
    },
    {
      "cell_type": "markdown",
      "metadata": {
        "id": "w2PQ59Pgd60l"
      },
      "source": [
        "8. Write a Python function to reverses a string if it's length is a multiple of 4."
      ]
    },
    {
      "cell_type": "code",
      "metadata": {
        "colab": {
          "base_uri": "https://localhost:8080/"
        },
        "id": "kNVuGUY-d7Rp",
        "outputId": "12a7695b-173a-42c1-cdc2-c7b4e997a659"
      },
      "source": [
        "def string(str):\n",
        "  if(len(str)%4==0):\n",
        "    return(str[::-1])\n",
        "  return(str)\n",
        "print(string(\"online classes\"))\n",
        "print(string(\"data\"))"
      ],
      "execution_count": null,
      "outputs": [
        {
          "output_type": "stream",
          "text": [
            "online classes\n",
            "atad\n"
          ],
          "name": "stdout"
        }
      ]
    },
    {
      "cell_type": "markdown",
      "metadata": {
        "id": "S3EIIEUHd-DF"
      },
      "source": [
        " 9. Write a Python program to convert all units of time into seconds."
      ]
    },
    {
      "cell_type": "code",
      "metadata": {
        "colab": {
          "base_uri": "https://localhost:8080/"
        },
        "id": "RMMdnFV5eAYG",
        "outputId": "c588eaca-cf1a-488c-94dc-e210bf1d2a61"
      },
      "source": [
        "days=int(input(\"enter the days\"))*3600*24\n",
        "hours=int(input(\"enter the hours\"))*3600\n",
        "minutes=int(input(\"enter the minutes\"))*60\n",
        "seconds=int(input(\"enter the seconds\"))\n",
        "print(days)\n",
        "print(hours)\n",
        "print(minutes)\n",
        "print(seconds)"
      ],
      "execution_count": null,
      "outputs": [
        {
          "output_type": "stream",
          "text": [
            "enter the days364\n",
            "enter the hours365\n",
            "enter the minutes50\n",
            "enter the seconds36929\n",
            "31449600\n",
            "1314000\n",
            "3000\n",
            "36929\n"
          ],
          "name": "stdout"
        }
      ]
    },
    {
      "cell_type": "markdown",
      "metadata": {
        "id": "4I-VxxAQeEDH"
      },
      "source": [
        " 10. Write a Python program to sort three integers without using conditional statements and\n",
        "loops."
      ]
    },
    {
      "cell_type": "code",
      "metadata": {
        "colab": {
          "base_uri": "https://localhost:8080/"
        },
        "id": "cXouvTDEeRSh",
        "outputId": "537a507a-3747-4a49-910a-b9e8c39ccc59"
      },
      "source": [
        "a1=int(input(\"enter the number\"))\n",
        "a2=int(input(\"enter the number\"))\n",
        "a3=int(input(\"enter the number\"))\n",
        "x=min(a1,a2,a3)\n",
        "z=max(a1,a2,a3)\n",
        "y=(a1+a2+a3)-x-z\n",
        "print(x,y,z)"
      ],
      "execution_count": null,
      "outputs": [
        {
          "output_type": "stream",
          "text": [
            "enter the number53\n",
            "enter the number37\n",
            "enter the number36\n",
            "36 37 53\n"
          ],
          "name": "stdout"
        }
      ]
    },
    {
      "cell_type": "markdown",
      "metadata": {
        "id": "tMmU5NG0eX_e"
      },
      "source": [
        " 11. Write a Python program to get the details of the math module."
      ]
    },
    {
      "cell_type": "code",
      "metadata": {
        "id": "HBevgLYweZAP"
      },
      "source": [
        "import math\n",
        "print(dir(math))"
      ],
      "execution_count": null,
      "outputs": []
    },
    {
      "cell_type": "markdown",
      "metadata": {
        "id": "9k42y0YBecDg"
      },
      "source": [
        " 12. Write a Python program to concatenate N strings."
      ]
    },
    {
      "cell_type": "code",
      "metadata": {
        "colab": {
          "base_uri": "https://localhost:8080/"
        },
        "id": "eSIg-NsReeoT",
        "outputId": "d6494a4b-4088-426d-df6d-b1f748c672d6"
      },
      "source": [
        "str1=input(str(\"enter the string\"))\n",
        "str2=input(str(\"enter the string\"))\n",
        "new_string=str1+str2\n",
        "print(new_string)"
      ],
      "execution_count": null,
      "outputs": [
        {
          "output_type": "stream",
          "text": [
            "enter the stringGitam\n",
            "enter the stringStudents\n",
            "GitamStudents\n"
          ],
          "name": "stdout"
        }
      ]
    }
  ]
}