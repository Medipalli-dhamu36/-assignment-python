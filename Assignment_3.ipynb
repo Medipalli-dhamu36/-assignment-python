{
  "nbformat": 4,
  "nbformat_minor": 0,
  "metadata": {
    "colab": {
      "name": "Assignment 3.ipynb",
      "provenance": [],
      "authorship_tag": "ABX9TyMm94MpALYR6nZxhwG/MCAV",
      "include_colab_link": true
    },
    "kernelspec": {
      "name": "python3",
      "display_name": "Python 3"
    }
  },
  "cells": [
    {
      "cell_type": "markdown",
      "metadata": {
        "id": "view-in-github",
        "colab_type": "text"
      },
      "source": [
        "<a href=\"https://colab.research.google.com/github/charitha0606/-assignment-python/blob/master/Assignment_3.ipynb\" target=\"_parent\"><img src=\"https://colab.research.google.com/assets/colab-badge.svg\" alt=\"Open In Colab\"/></a>"
      ]
    },
    {
      "cell_type": "markdown",
      "metadata": {
        "id": "8hkkm2Duxyzb",
        "colab_type": "text"
      },
      "source": [
        "1. Take two inputs from user and check whether they are equal or not."
      ]
    },
    {
      "cell_type": "code",
      "metadata": {
        "id": "CvCwaBzYyEMg",
        "colab_type": "code",
        "colab": {
          "base_uri": "https://localhost:8080/",
          "height": 69
        },
        "outputId": "6235d8db-aca7-4460-eb9f-9a34111fd8d0"
      },
      "source": [
        "a=int(input(\"enter a first number\"))\n",
        "b=int(input(\"enter a second num\"))\n",
        "if a==b:\n",
        "  print(\"equal\")\n",
        "else :\n",
        "  print(\"not equal\")"
      ],
      "execution_count": 8,
      "outputs": [
        {
          "output_type": "stream",
          "text": [
            "enter a first number10\n",
            "enter a second num20\n",
            "not equal\n"
          ],
          "name": "stdout"
        }
      ]
    },
    {
      "cell_type": "code",
      "metadata": {
        "id": "t_ZDuzWDHmCI",
        "colab_type": "code",
        "colab": {
          "base_uri": "https://localhost:8080/",
          "height": 69
        },
        "outputId": "3960bbcf-401d-4c6f-b295-8db84bcfc8da"
      },
      "source": [
        " a=int(input(\"enter a first number\"))\n",
        "b=int(input(\"enter a second num\"))\n",
        "if a==b:\n",
        "  print(\"equal\")\n",
        "else :\n",
        "  print(\"not equal\")"
      ],
      "execution_count": 43,
      "outputs": [
        {
          "output_type": "stream",
          "text": [
            "enter a first number10\n",
            "enter a second num10\n",
            "equal\n"
          ],
          "name": "stdout"
        }
      ]
    },
    {
      "cell_type": "markdown",
      "metadata": {
        "id": "bWvt_GgR18n3",
        "colab_type": "text"
      },
      "source": [
        "2.take 3 inputs from the user and check:\n",
        "All are equal.\n",
        " Any of two are equal.\n",
        " (Use and or)"
      ]
    },
    {
      "cell_type": "code",
      "metadata": {
        "id": "lobqBXPu2jLk",
        "colab_type": "code",
        "colab": {
          "base_uri": "https://localhost:8080/",
          "height": 86
        },
        "outputId": "1646625e-32f9-47c2-8b8a-47d457f7d7ed"
      },
      "source": [
        "input1 = input(\"Enter the first input: \")\n",
        "input2 = input(\"Enter the second input: \")\n",
        "input3 = input(\"Enter the third input: \")\n",
        "if input1==input2 and input2==input3:\n",
        "  print(\"The given inputs are equal.\")\n",
        "else:\n",
        "  if input1==input2 or input2==input3 or input3==input1:\n",
        "    print(\"Two inputs are equal.\")\n",
        "  else:\n",
        "    print(\"None of the inputs are equal.\")"
      ],
      "execution_count": 57,
      "outputs": [
        {
          "output_type": "stream",
          "text": [
            "Enter the first input: 10\n",
            "Enter the second input: 10\n",
            "Enter the third input: 12\n",
            "Two inputs are equal.\n"
          ],
          "name": "stdout"
        }
      ]
    },
    {
      "cell_type": "code",
      "metadata": {
        "id": "PlHx577cC_tv",
        "colab_type": "code",
        "colab": {
          "base_uri": "https://localhost:8080/",
          "height": 86
        },
        "outputId": "f0347106-674d-4f54-e0bb-b760f3f6135a"
      },
      "source": [
        "input1 = input(\"Enter the first input: \")\n",
        "input2 = input(\"Enter the second input: \")\n",
        "input3 = input(\"Enter the third input: \")\n",
        "if input1==input2 and input2==input3:\n",
        "  print(\"The given inputs are equal.\")\n",
        "else:\n",
        "  if input1==input2 or input2==input3 or input3==input1:\n",
        "    print(\"Two inputs are equal.\")\n",
        "  else:\n",
        "    print(\"None of the inputs are equal.\")"
      ],
      "execution_count": 58,
      "outputs": [
        {
          "output_type": "stream",
          "text": [
            "Enter the first input: 6\n",
            "Enter the second input: 9\n",
            "Enter the third input: 9\n",
            "Two inputs are equal.\n"
          ],
          "name": "stdout"
        }
      ]
    },
    {
      "cell_type": "code",
      "metadata": {
        "id": "-g3AM1O3LRiO",
        "colab_type": "code",
        "colab": {
          "base_uri": "https://localhost:8080/",
          "height": 86
        },
        "outputId": "80d39b68-8305-47b7-8e4e-640d9887a9a4"
      },
      "source": [
        " input1 = input(\"Enter the first input: \")\n",
        "input2 = input(\"Enter the second input: \")\n",
        "input3 = input(\"Enter the third input: \")\n",
        "if input1==input2 and input2==input3:\n",
        "  print(\"The given inputs are equal.\")\n",
        "else:\n",
        "  if input1==input2 or input2==input3 or input3==input1:\n",
        "    print(\"Two inputs are equal.\")\n",
        "  else:\n",
        "    print(\"None of the inputs are equal.\")"
      ],
      "execution_count": 59,
      "outputs": [
        {
          "output_type": "stream",
          "text": [
            "Enter the first input: 12\n",
            "Enter the second input: 12\n",
            "Enter the third input: 12\n",
            "The given inputs are equal.\n"
          ],
          "name": "stdout"
        }
      ]
    },
    {
      "cell_type": "code",
      "metadata": {
        "id": "ys_0E32WLWLt",
        "colab_type": "code",
        "colab": {
          "base_uri": "https://localhost:8080/",
          "height": 86
        },
        "outputId": "a30c2539-3f50-4df3-8da7-da7bd965c908"
      },
      "source": [
        " input1 = input(\"Enter the first input: \")\n",
        "input2 = input(\"Enter the second input: \")\n",
        "input3 = input(\"Enter the third input: \")\n",
        "if input1==input2 and input2==input3:\n",
        "  print(\"The given inputs are equal.\")\n",
        "else:\n",
        "  if input1==input2 or input2==input3 or input3==input1:\n",
        "    print(\"Two inputs are equal.\")\n",
        "  else:\n",
        "    print(\"None of the inputs are equal.\")"
      ],
      "execution_count": 60,
      "outputs": [
        {
          "output_type": "stream",
          "text": [
            "Enter the first input: 12\n",
            "Enter the second input: 6\n",
            "Enter the third input: 9\n",
            "None of the inputs are equal.\n"
          ],
          "name": "stdout"
        }
      ]
    },
    {
      "cell_type": "markdown",
      "metadata": {
        "id": "KFkQsmDyDqy2",
        "colab_type": "text"
      },
      "source": [
        " 3.Take two number and check whether the sum is greater than 5, less than 5 or equal to 5."
      ]
    },
    {
      "cell_type": "code",
      "metadata": {
        "id": "EHOvWPfFD_gs",
        "colab_type": "code",
        "colab": {
          "base_uri": "https://localhost:8080/",
          "height": 69
        },
        "outputId": "36f157a7-c232-4195-fb31-8e0a1f02a1dc"
      },
      "source": [
        "x=int(input(\"enter first num\"))\n",
        "y=int(input(\"enter second num\"))\n",
        "if x+y>5:\n",
        " print(\"sum is greater than 5\")\n",
        "elif x+y<5:\n",
        "  print(\"sum is less than 5\")\n",
        "else:\n",
        "  print(\"sum is is to 5\")"
      ],
      "execution_count": 62,
      "outputs": [
        {
          "output_type": "stream",
          "text": [
            "enter first num10\n",
            "enter second num15\n",
            "sum is greater than 5\n"
          ],
          "name": "stdout"
        }
      ]
    },
    {
      "cell_type": "code",
      "metadata": {
        "id": "Xz_QntJmM5cK",
        "colab_type": "code",
        "colab": {
          "base_uri": "https://localhost:8080/",
          "height": 69
        },
        "outputId": "5a50399a-97d5-467a-afec-41f0171770be"
      },
      "source": [
        "x=int(input(\"enter first num\"))\n",
        "y=int(input(\"enter second num\"))\n",
        "if x+y>5:\n",
        " print(\"sum is greater than 5\")\n",
        "elif x+y<5:\n",
        "  print(\"sum is less than 5\")\n",
        "else:\n",
        "  print(\"sum is is to 5\")"
      ],
      "execution_count": 65,
      "outputs": [
        {
          "output_type": "stream",
          "text": [
            "enter first num5\n",
            "enter second num5\n",
            "sum is greater than 5\n"
          ],
          "name": "stdout"
        }
      ]
    },
    {
      "cell_type": "code",
      "metadata": {
        "id": "KoxSGkC1NIkB",
        "colab_type": "code",
        "colab": {
          "base_uri": "https://localhost:8080/",
          "height": 69
        },
        "outputId": "e4c1d1a4-bb04-4607-caa0-a6d64497a202"
      },
      "source": [
        " x=int(input(\"enter first num\"))\n",
        "y=int(input(\"enter second num\"))\n",
        "if x+y>5:\n",
        "  print(\"sum is greater than 5\")\n",
        "elif x+y<5:\n",
        "  print(\"sum is less than 5\")\n",
        "else:\n",
        "  print(\"sum is is to 5\")"
      ],
      "execution_count": 67,
      "outputs": [
        {
          "output_type": "stream",
          "text": [
            "enter first num2\n",
            "enter second num1\n",
            "sum is less than 5\n"
          ],
          "name": "stdout"
        }
      ]
    },
    {
      "cell_type": "markdown",
      "metadata": {
        "id": "gtbHvVeLNQpq",
        "colab_type": "text"
      },
      "source": [
        "4.Suppose passing marks of a subject is 35. Take input of marks from user and check whether it is greater than passing marks or not."
      ]
    },
    {
      "cell_type": "code",
      "metadata": {
        "id": "BAmvp4yfNWDb",
        "colab_type": "code",
        "colab": {
          "base_uri": "https://localhost:8080/",
          "height": 71
        },
        "outputId": "f3d086ad-e265-41dc-ed08-70b4a9327ea7"
      },
      "source": [
        "marks=float(input(\"enter your marks\"))\n",
        "passmarks=35\n",
        "if marks>passmarks:\n",
        " print(\"the marks you scored is greater than passmarks you have passed\")\n",
        "else:\n",
        " print(\"the marks you scored is lessthan passmarks you have not passed\")"
      ],
      "execution_count": 69,
      "outputs": [
        {
          "output_type": "stream",
          "text": [
            "enter your marks80\n",
            "the marks you scored is greater than passmarks you have passed\n"
          ],
          "name": "stdout"
        }
      ]
    },
    {
      "cell_type": "code",
      "metadata": {
        "id": "0UgqomipQ5X9",
        "colab_type": "code",
        "colab": {
          "base_uri": "https://localhost:8080/",
          "height": 71
        },
        "outputId": "57a4f8e5-9a94-42a4-a493-dbae7dba8ff4"
      },
      "source": [
        "marks=float(input(\"enter your marks\"))\n",
        "passmarks=35\n",
        "if marks>passmarks:\n",
        " print(\"the marks you scored is greater than passmarks you have passed\")\n",
        "else:\n",
        " print(\"the marks you scored is lessthan passmarks you have not passed\")"
      ],
      "execution_count": 71,
      "outputs": [
        {
          "output_type": "stream",
          "text": [
            "enter your marks25\n",
            "the marks you scored is lessthan passmarks you have not passed\n"
          ],
          "name": "stdout"
        }
      ]
    },
    {
      "cell_type": "markdown",
      "metadata": {
        "id": "rzjbusZMRE5O",
        "colab_type": "text"
      },
      "source": [
        " 5.Write a Python function to find the Max of three numbers"
      ]
    },
    {
      "cell_type": "code",
      "metadata": {
        "id": "EvGKAsgbRJsr",
        "colab_type": "code",
        "colab": {
          "base_uri": "https://localhost:8080/",
          "height": 86
        },
        "outputId": "fb253fb6-ba54-40fb-882e-5c3623214939"
      },
      "source": [
        "x=int(input(\"enter first num\"))\n",
        "y=int(input(\"enter second num\"))\n",
        "z=int(input(\"enter third num\"))\n",
        "if x>y:\n",
        "  if x>z:\n",
        "    print(\"the max num of the three num\",x)\n",
        "  else:\n",
        "    print(\"the max num of the three num\",z)\n",
        "else:\n",
        "  if y>z:\n",
        "   print(\"the max num of the three num\",y)\n",
        "  else:\n",
        "   print(\"the max num of the three num\",z)"
      ],
      "execution_count": 73,
      "outputs": [
        {
          "output_type": "stream",
          "text": [
            "enter first num11\n",
            "enter second num22\n",
            "enter third num33\n",
            "the max num of the three num 33\n"
          ],
          "name": "stdout"
        }
      ]
    }
  ]
}