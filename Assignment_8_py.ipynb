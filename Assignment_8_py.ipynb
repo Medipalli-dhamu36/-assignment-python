{
  "nbformat": 4,
  "nbformat_minor": 0,
  "metadata": {
    "colab": {
      "name": "Assignment-8.py",
      "provenance": [],
      "authorship_tag": "ABX9TyMJSZmrIzk5eZalMbCzLq47",
      "include_colab_link": true
    },
    "kernelspec": {
      "name": "python3",
      "display_name": "Python 3"
    }
  },
  "cells": [
    {
      "cell_type": "markdown",
      "metadata": {
        "id": "view-in-github",
        "colab_type": "text"
      },
      "source": [
        "<a href=\"https://colab.research.google.com/github/charitha0606/-assignment-python/blob/master/Assignment_8_py.ipynb\" target=\"_parent\"><img src=\"https://colab.research.google.com/assets/colab-badge.svg\" alt=\"Open In Colab\"/></a>"
      ]
    },
    {
      "cell_type": "markdown",
      "metadata": {
        "id": "KX0fkFhxJtjQ",
        "colab_type": "text"
      },
      "source": [
        " 1. Write a program that prints the integers from 1 to 100. But for multiples of \n",
        "three print \"Fizz\" instead of the number, and for the multiples of five print \n",
        "\"Buzz\". For numbers which are multiples of both three and five print \n",
        "\"FizzBuzz\"."
      ]
    },
    {
      "cell_type": "code",
      "metadata": {
        "id": "k3T0qokIJv5J",
        "colab_type": "code",
        "colab": {
          "base_uri": "https://localhost:8080/",
          "height": 1000
        },
        "outputId": "1124df30-e624-4109-b714-4fe9951d5b1c"
      },
      "source": [
        "for i in range(1,101):\n",
        "    if i%3==0 and i%5==0:\n",
        "      i=\"FizzBuzz\"\n",
        "      print(i)\n",
        "    elif i%3==0:\n",
        "     i=\"Fizz\"\n",
        "     print(i)\n",
        "    elif i%5==0:\n",
        "     i=\"Buzz\"\n",
        "     print(i)\n",
        "    else:\n",
        "     print(i)"
      ],
      "execution_count": 3,
      "outputs": [
        {
          "output_type": "stream",
          "text": [
            "1\n",
            "2\n",
            "Fizz\n",
            "4\n",
            "Buzz\n",
            "Fizz\n",
            "7\n",
            "8\n",
            "Fizz\n",
            "Buzz\n",
            "11\n",
            "Fizz\n",
            "13\n",
            "14\n",
            "FizzBuzz\n",
            "16\n",
            "17\n",
            "Fizz\n",
            "19\n",
            "Buzz\n",
            "Fizz\n",
            "22\n",
            "23\n",
            "Fizz\n",
            "Buzz\n",
            "26\n",
            "Fizz\n",
            "28\n",
            "29\n",
            "FizzBuzz\n",
            "31\n",
            "32\n",
            "Fizz\n",
            "34\n",
            "Buzz\n",
            "Fizz\n",
            "37\n",
            "38\n",
            "Fizz\n",
            "Buzz\n",
            "41\n",
            "Fizz\n",
            "43\n",
            "44\n",
            "FizzBuzz\n",
            "46\n",
            "47\n",
            "Fizz\n",
            "49\n",
            "Buzz\n",
            "Fizz\n",
            "52\n",
            "53\n",
            "Fizz\n",
            "Buzz\n",
            "56\n",
            "Fizz\n",
            "58\n",
            "59\n",
            "FizzBuzz\n",
            "61\n",
            "62\n",
            "Fizz\n",
            "64\n",
            "Buzz\n",
            "Fizz\n",
            "67\n",
            "68\n",
            "Fizz\n",
            "Buzz\n",
            "71\n",
            "Fizz\n",
            "73\n",
            "74\n",
            "FizzBuzz\n",
            "76\n",
            "77\n",
            "Fizz\n",
            "79\n",
            "Buzz\n",
            "Fizz\n",
            "82\n",
            "83\n",
            "Fizz\n",
            "Buzz\n",
            "86\n",
            "Fizz\n",
            "88\n",
            "89\n",
            "FizzBuzz\n",
            "91\n",
            "92\n",
            "Fizz\n",
            "94\n",
            "Buzz\n",
            "Fizz\n",
            "97\n",
            "98\n",
            "Fizz\n",
            "Buzz\n"
          ],
          "name": "stdout"
        }
      ]
    },
    {
      "cell_type": "markdown",
      "metadata": {
        "id": "L6GoMyEL-8Tt",
        "colab_type": "text"
      },
      "source": [
        "2.Write a Python program to remove consecutive duplicates from list"
      ]
    },
    {
      "cell_type": "code",
      "metadata": {
        "id": "3MjErIb2_COO",
        "colab_type": "code",
        "colab": {
          "base_uri": "https://localhost:8080/",
          "height": 69
        },
        "outputId": "aea595d3-0db6-47f9-99fd-1b133edf0611"
      },
      "source": [
        "mylist=[2,5,5,6,6,9,3]\n",
        "prev=None\n",
        "newlist=[]\n",
        "for item in mylist:\n",
        "  if item!=prev:\n",
        "        newlist.append(item)\n",
        "        prev=item\n",
        "print(\"The new list:\\n\")\n",
        "print(newlist)"
      ],
      "execution_count": 64,
      "outputs": [
        {
          "output_type": "stream",
          "text": [
            "The new list:\n",
            "\n",
            "[2, 5, 6, 9, 3]\n"
          ],
          "name": "stdout"
        }
      ]
    },
    {
      "cell_type": "markdown",
      "metadata": {
        "id": "kxEhWoFEwxsj",
        "colab_type": "text"
      },
      "source": [
        "3.Write a python program to find unique element from the list."
      ]
    },
    {
      "cell_type": "code",
      "metadata": {
        "id": "OO6-WP27xJgh",
        "colab_type": "code",
        "colab": {
          "base_uri": "https://localhost:8080/",
          "height": 34
        },
        "outputId": "12d4a322-4f32-4ed3-f2c0-73e78170f8dc"
      },
      "source": [
        "l1=[1,1,2,2,2,3,3,3,4,4,5,5]\n",
        "Mylist=set(l1)\n",
        "print(list(Mylist))"
      ],
      "execution_count": 5,
      "outputs": [
        {
          "output_type": "stream",
          "text": [
            "[1, 2, 3, 4, 5]\n"
          ],
          "name": "stdout"
        }
      ]
    },
    {
      "cell_type": "markdown",
      "metadata": {
        "id": "76y0gIWFz8Xr",
        "colab_type": "text"
      },
      "source": [
        "4.Write a function that checks whether a number is in a given range (inclusive of\n",
        "high and low)"
      ]
    },
    {
      "cell_type": "code",
      "metadata": {
        "id": "qfRCqJSX0ERI",
        "colab_type": "code",
        "colab": {}
      },
      "source": [
        "def check_range(num,start,stop):\n",
        "  if num in range(start,stop+1):\n",
        "     print(num,\"number is in a given range\")\n",
        "  else:\n",
        "     print(num,\"number is not in a Given range\")"
      ],
      "execution_count": 10,
      "outputs": []
    },
    {
      "cell_type": "code",
      "metadata": {
        "id": "L4Kh07Of1foK",
        "colab_type": "code",
        "colab": {
          "base_uri": "https://localhost:8080/",
          "height": 54
        },
        "outputId": "0785bf59-e6dd-47c8-fb10-d3fe1731a250"
      },
      "source": [
        "check_range(49,1,48)"
      ],
      "execution_count": 15,
      "outputs": [
        {
          "output_type": "stream",
          "text": [
            "49 number is not in a Given range\n"
          ],
          "name": "stdout"
        }
      ]
    },
    {
      "cell_type": "code",
      "metadata": {
        "id": "31qEigO_2Hb5",
        "colab_type": "code",
        "colab": {
          "base_uri": "https://localhost:8080/",
          "height": 34
        },
        "outputId": "9f370aa5-d6cd-4237-a05d-125b9bd46aaa"
      },
      "source": [
        "check_range(49,1,50)"
      ],
      "execution_count": 16,
      "outputs": [
        {
          "output_type": "stream",
          "text": [
            "49 number is in a given range\n"
          ],
          "name": "stdout"
        }
      ]
    },
    {
      "cell_type": "markdown",
      "metadata": {
        "id": "KXAZB_KU2NFE",
        "colab_type": "text"
      },
      "source": [
        "5.Write a Python function that accepts a string and calculates the number of \n",
        "upper case letters and lower case letters.\n",
        "Sample String : 'Hello Mr. Rogers, how are you this fine Tuesday?'\n",
        "Expected Output : \n",
        "No. of Upper case characters : 4\n",
        "No. of Lower case Characters : 33"
      ]
    },
    {
      "cell_type": "code",
      "metadata": {
        "id": "W-umbkRF2SbT",
        "colab_type": "code",
        "colab": {}
      },
      "source": [
        "def char_test(s):\n",
        "  uppercase,lowercase,special=0,0,0\n",
        "  for char in s:\n",
        "    if char.isupper():\n",
        "        uppercase+=1\n",
        "    elif char.islower():\n",
        "        lowercase+=1\n",
        "    else:\n",
        "        special+=1\n",
        "  print(\"number of uppercase characters=\",uppercase)\n",
        "  print(\"number of lowercase characters=\",lowercase)\n",
        "  print(\"number of special characters=\",special)"
      ],
      "execution_count": 52,
      "outputs": []
    },
    {
      "cell_type": "code",
      "metadata": {
        "id": "QwPBSC9v61A4",
        "colab_type": "code",
        "colab": {
          "base_uri": "https://localhost:8080/",
          "height": 89
        },
        "outputId": "f896f704-4186-4e81-d084-e5c0e6640257"
      },
      "source": [
        "char_test(\"Hello Mr.Rogers,how are you this fine Tuesday?\")"
      ],
      "execution_count": 53,
      "outputs": [
        {
          "output_type": "stream",
          "text": [
            "number of uppercase characters= 4\n",
            "number of lowercase characters= 33\n",
            "number of special characters= 9\n"
          ],
          "name": "stdout"
        }
      ]
    }
  ]
}