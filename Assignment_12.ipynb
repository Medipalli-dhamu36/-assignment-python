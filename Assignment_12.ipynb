{
  "nbformat": 4,
  "nbformat_minor": 0,
  "metadata": {
    "colab": {
      "name": "Assignment-12.ipynb",
      "provenance": [],
      "authorship_tag": "ABX9TyNsfnJ+9f8tp7fchBeEiV7h",
      "include_colab_link": true
    },
    "kernelspec": {
      "name": "python3",
      "display_name": "Python 3"
    }
  },
  "cells": [
    {
      "cell_type": "markdown",
      "metadata": {
        "id": "view-in-github",
        "colab_type": "text"
      },
      "source": [
        "<a href=\"https://colab.research.google.com/github/charitha0606/-assignment-python/blob/master/Assignment_12.ipynb\" target=\"_parent\"><img src=\"https://colab.research.google.com/assets/colab-badge.svg\" alt=\"Open In Colab\"/></a>"
      ]
    },
    {
      "cell_type": "markdown",
      "metadata": {
        "id": "m-XMTnV-8m4S",
        "colab_type": "text"
      },
      "source": [
        "1.what is dictionary in python?explain with an example."
      ]
    },
    {
      "cell_type": "markdown",
      "metadata": {
        "id": "CUBupJ10-8Bw",
        "colab_type": "text"
      },
      "source": [
        " Dictionary is used for storing unorder data collection.\n",
        "This is also a type of data structure.\n",
        "{Key:value,key1:value1,key2:vakue2}\n",
        "                         Keys are unique but values are duplicated.keys are immutable but values are mutale"
      ]
    },
    {
      "cell_type": "code",
      "metadata": {
        "id": "P38tkEMT_EUA",
        "colab_type": "code",
        "colab": {
          "base_uri": "https://localhost:8080/",
          "height": 34
        },
        "outputId": "046334aa-ecbd-409b-d5e7-738e11c87fa2"
      },
      "source": [
        "d={\"h\":1,\"e\":2,\"y\":3}\n",
        "print(d)"
      ],
      "execution_count": 1,
      "outputs": [
        {
          "output_type": "stream",
          "text": [
            "{'h': 1, 'e': 2, 'y': 3}\n"
          ],
          "name": "stdout"
        }
      ]
    },
    {
      "cell_type": "markdown",
      "metadata": {
        "id": "tPSuhXEZAvIm",
        "colab_type": "text"
      },
      "source": [
        "2.\n",
        "Write a Python program to sum all the items in a list."
      ]
    },
    {
      "cell_type": "code",
      "metadata": {
        "id": "QshcGeGpA7n4",
        "colab_type": "code",
        "colab": {
          "base_uri": "https://localhost:8080/",
          "height": 34
        },
        "outputId": "15225a60-f15d-4638-9e26-647c6bd6fe32"
      },
      "source": [
        "a=[1,2,3]\n",
        "b=[4,5,6]\n",
        "print(a+b)"
      ],
      "execution_count": 2,
      "outputs": [
        {
          "output_type": "stream",
          "text": [
            "[1, 2, 3, 4, 5, 6]\n"
          ],
          "name": "stdout"
        }
      ]
    },
    {
      "cell_type": "code",
      "metadata": {
        "id": "sR6vLMy6CPzs",
        "colab_type": "code",
        "colab": {
          "base_uri": "https://localhost:8080/",
          "height": 34
        },
        "outputId": "c2fd4afc-0408-4794-a0cf-df9b31b67fc2"
      },
      "source": [
        "a=[1]\n",
        "b=[2]\n",
        "C=a+b\n",
        "print(C)"
      ],
      "execution_count": 3,
      "outputs": [
        {
          "output_type": "stream",
          "text": [
            "[1, 2]\n"
          ],
          "name": "stdout"
        }
      ]
    },
    {
      "cell_type": "markdown",
      "metadata": {
        "id": "_Vsw1HBcCmUo",
        "colab_type": "text"
      },
      "source": [
        "3.Write a Python program to create a list of empty dictionaries."
      ]
    },
    {
      "cell_type": "code",
      "metadata": {
        "id": "uHMWYp0jCqdn",
        "colab_type": "code",
        "colab": {
          "base_uri": "https://localhost:8080/",
          "height": 34
        },
        "outputId": "681c614a-6baa-4729-e231-0949c8c1fba3"
      },
      "source": [
        "a=2\n",
        "l=[{} for i in range(a)]\n",
        "print(l)"
      ],
      "execution_count": 3,
      "outputs": [
        {
          "output_type": "stream",
          "text": [
            "[{}, {}]\n"
          ],
          "name": "stdout"
        }
      ]
    },
    {
      "cell_type": "markdown",
      "metadata": {
        "id": "rM6y_ywkbp4_",
        "colab_type": "text"
      },
      "source": [
        "4.Write a Python program to access dictionary keys element by index."
      ]
    },
    {
      "cell_type": "code",
      "metadata": {
        "id": "eUmMaTqCbu86",
        "colab_type": "code",
        "colab": {
          "base_uri": "https://localhost:8080/",
          "height": 34
        },
        "outputId": "3aaef337-aea8-4b4d-cdd1-a2499e8042cf"
      },
      "source": [
        "d={\"chemistry\":99,\"physics\":88}\n",
        "print(list(d)[1])"
      ],
      "execution_count": 6,
      "outputs": [
        {
          "output_type": "stream",
          "text": [
            "physics\n"
          ],
          "name": "stdout"
        }
      ]
    },
    {
      "cell_type": "code",
      "metadata": {
        "id": "osi-vg2ncjC2",
        "colab_type": "code",
        "colab": {
          "base_uri": "https://localhost:8080/",
          "height": 34
        },
        "outputId": "2e4d6720-3833-4950-fc1a-adfbdaf82df9"
      },
      "source": [
        " d={\"chemistry\":99,\"physics\":88}\n",
        "print(list(d)[0])"
      ],
      "execution_count": 7,
      "outputs": [
        {
          "output_type": "stream",
          "text": [
            "chemistry\n"
          ],
          "name": "stdout"
        }
      ]
    },
    {
      "cell_type": "markdown",
      "metadata": {
        "id": "TerEmr_2clFT",
        "colab_type": "text"
      },
      "source": [
        "5.\n",
        "Write a Python program to iterate over dictionaries using for loops"
      ]
    },
    {
      "cell_type": "code",
      "metadata": {
        "id": "M3k5Q1x5crlE",
        "colab_type": "code",
        "colab": {
          "base_uri": "https://localhost:8080/",
          "height": 69
        },
        "outputId": "c18ca889-d77a-495b-fec9-2896a9b214a5"
      },
      "source": [
        "d={\"black\":1,\"blue\":2,\"peach\":3}\n",
        "for colour_key,value in d.items():\n",
        "  print(colour_key,\"corresponds to\", d[colour_key])"
      ],
      "execution_count": 11,
      "outputs": [
        {
          "output_type": "stream",
          "text": [
            "black corresponds to 1\n",
            "blue corresponds to 2\n",
            "peach corresponds to 3\n"
          ],
          "name": "stdout"
        }
      ]
    },
    {
      "cell_type": "markdown",
      "metadata": {
        "id": "5qzqOUEdeWR9",
        "colab_type": "text"
      },
      "source": [
        "6.Write a Python program to sum all the items in a dictionary."
      ]
    },
    {
      "cell_type": "code",
      "metadata": {
        "id": "V5DpcovVhGHb",
        "colab_type": "code",
        "colab": {
          "base_uri": "https://localhost:8080/",
          "height": 34
        },
        "outputId": "f77b7960-9812-453a-c04c-7215b269b6e7"
      },
      "source": [
        " \n",
        "def returnSum(myDict):\n",
        "  sum = 0\n",
        "  for i in myDict: \n",
        "    sum = sum + myDict[i]\n",
        "  return sum\n",
        "dict = {'a': 100, 'b':200, 'c':300} \n",
        "print(\"Sum :\", returnSum(dict))"
      ],
      "execution_count": 29,
      "outputs": [
        {
          "output_type": "stream",
          "text": [
            "Sum : 600\n"
          ],
          "name": "stdout"
        }
      ]
    },
    {
      "cell_type": "markdown",
      "metadata": {
        "id": "6eW-rLgBhsbM",
        "colab_type": "text"
      },
      "source": [
        "7.Write a Python script to concatenate following dictionaries to create a new one. \n",
        "  Sample Dictionary:"
      ]
    },
    {
      "cell_type": "code",
      "metadata": {
        "id": "P3KuJy-jhv48",
        "colab_type": "code",
        "colab": {
          "base_uri": "https://localhost:8080/",
          "height": 54
        },
        "outputId": "d7d3b0ff-65e1-4e9e-acf0-7eb70523c941"
      },
      "source": [
        "dic1={1:10,2:20}\n",
        "dic2={3:30,4:40}\n",
        "dic3={5:50,6:60}\n",
        "dic4={}\n",
        "for d in (dic1,dic2,dic3):dic4.update(d)\n",
        "print(dic4)"
      ],
      "execution_count": 35,
      "outputs": [
        {
          "output_type": "stream",
          "text": [
            "{1: 10, 2: 20, 3: 30, 4: 40, 5: 50, 6: 60}\n"
          ],
          "name": "stdout"
        }
      ]
    }
  ]
}