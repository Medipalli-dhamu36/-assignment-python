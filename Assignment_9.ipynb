{
  "nbformat": 4,
  "nbformat_minor": 0,
  "metadata": {
    "colab": {
      "name": "Assignment-9.ipynb",
      "provenance": [],
      "authorship_tag": "ABX9TyPsgOEwD/GvOF6WzkbwkPsM",
      "include_colab_link": true
    },
    "kernelspec": {
      "name": "python3",
      "display_name": "Python 3"
    }
  },
  "cells": [
    {
      "cell_type": "markdown",
      "metadata": {
        "id": "view-in-github",
        "colab_type": "text"
      },
      "source": [
        "<a href=\"https://colab.research.google.com/github/charitha0606/-assignment-python/blob/master/Assignment_9.ipynb\" target=\"_parent\"><img src=\"https://colab.research.google.com/assets/colab-badge.svg\" alt=\"Open In Colab\"/></a>"
      ]
    },
    {
      "cell_type": "markdown",
      "metadata": {
        "id": "OfLNyqj4LbRY",
        "colab_type": "text"
      },
      "source": [
        " 1.Write a Python program to get the largest & smallest number from a list."
      ]
    },
    {
      "cell_type": "code",
      "metadata": {
        "id": "uvqZcAKcLkWY",
        "colab_type": "code",
        "colab": {
          "base_uri": "https://localhost:8080/",
          "height": 54
        },
        "outputId": "b0a50ace-0ffe-466f-994f-d94521e45a78"
      },
      "source": [
        "X=[2,1,5,7,8]\n",
        "print(\"largest num is\",max(X),\"smallest num is\",min(X))"
      ],
      "execution_count": 9,
      "outputs": [
        {
          "output_type": "stream",
          "text": [
            "largest num is 8 smallest num is 1\n"
          ],
          "name": "stdout"
        }
      ]
    },
    {
      "cell_type": "markdown",
      "metadata": {
        "id": "ljafasiQNBj4",
        "colab_type": "text"
      },
      "source": [
        "2.Write a Python program to remove duplicates from a list."
      ]
    },
    {
      "cell_type": "code",
      "metadata": {
        "id": "ug7mgLsvQz66",
        "colab_type": "code",
        "colab": {
          "base_uri": "https://localhost:8080/",
          "height": 69
        },
        "outputId": "0f058893-2324-431e-d7e5-552fa669f326"
      },
      "source": [
        " mylist=[2,5,5,6,6,9,3]\n",
        "prev=None\n",
        "newlist=[]\n",
        "for item in mylist:\n",
        "  if item!=prev:\n",
        "        newlist.append(item)\n",
        "        prev=item\n",
        "print(\"The new list:\\n\")\n",
        "print(newlist)"
      ],
      "execution_count": 10,
      "outputs": [
        {
          "output_type": "stream",
          "text": [
            "The new list:\n",
            "\n",
            "[2, 5, 6, 9, 3]\n"
          ],
          "name": "stdout"
        }
      ]
    },
    {
      "cell_type": "markdown",
      "metadata": {
        "id": "fYrAxBxWR-aq",
        "colab_type": "text"
      },
      "source": [
        "3.Write a Python program to check a list is empty or not."
      ]
    },
    {
      "cell_type": "code",
      "metadata": {
        "id": "2vzZj41xXoq8",
        "colab_type": "code",
        "colab": {
          "base_uri": "https://localhost:8080/",
          "height": 34
        },
        "outputId": "5bb4eff6-5fb9-46c9-fc22-8a48cd7bf729"
      },
      "source": [
        " \n",
        "def Enquiry(lis1): \n",
        " \n",
        "    if len(lis1) == 0: \n",
        " \n",
        "        return 0\n",
        " \n",
        "    else: \n",
        " \n",
        "        return 1\n",
        "lis1 = [0,1,2] \n",
        " \n",
        "if Enquiry(lis1): \n",
        " \n",
        "    print (\"The list is not empty\") \n",
        " \n",
        "else: \n",
        " \n",
        "    print(\"Empty List\")"
      ],
      "execution_count": 21,
      "outputs": [
        {
          "output_type": "stream",
          "text": [
            "The list is not empty\n"
          ],
          "name": "stdout"
        }
      ]
    },
    {
      "cell_type": "code",
      "metadata": {
        "id": "RO6NKh50X4X5",
        "colab_type": "code",
        "colab": {
          "base_uri": "https://localhost:8080/",
          "height": 34
        },
        "outputId": "8b906182-554e-4881-fd92-bd77432b710c"
      },
      "source": [
        " def Enquiry(lis1): \n",
        " \n",
        "    if len(lis1) == 0: \n",
        " \n",
        "        return 0\n",
        " \n",
        "    else: \n",
        " \n",
        "        return 1\n",
        "lis1 = [] \n",
        " \n",
        "if Enquiry(lis1): \n",
        " \n",
        "    print (\"The list is not empty\") \n",
        " \n",
        "else: \n",
        " \n",
        "    print(\"Empty List\")"
      ],
      "execution_count": 22,
      "outputs": [
        {
          "output_type": "stream",
          "text": [
            "Empty List\n"
          ],
          "name": "stdout"
        }
      ]
    },
    {
      "cell_type": "markdown",
      "metadata": {
        "id": "pgADjryNX7X4",
        "colab_type": "text"
      },
      "source": [
        "4.Write a Python program to clone or copy a list."
      ]
    },
    {
      "cell_type": "code",
      "metadata": {
        "id": "lx8hoFUQX_i-",
        "colab_type": "code",
        "colab": {
          "base_uri": "https://localhost:8080/",
          "height": 51
        },
        "outputId": "4342db4e-e97e-4ff1-9402-0540cbba3010"
      },
      "source": [
        "My_list=[22,33,44,55]\n",
        "New_list=list(My_list)\n",
        "print(My_list)\n",
        "print(New_list)"
      ],
      "execution_count": 23,
      "outputs": [
        {
          "output_type": "stream",
          "text": [
            "[22, 33, 44, 55]\n",
            "[22, 33, 44, 55]\n"
          ],
          "name": "stdout"
        }
      ]
    },
    {
      "cell_type": "markdown",
      "metadata": {
        "id": "lDNPa248YvCj",
        "colab_type": "text"
      },
      "source": [
        "5.Write a Python program to print a specified list after removing the 0th, 4th and 5th elements."
      ]
    },
    {
      "cell_type": "code",
      "metadata": {
        "id": "y5O55r2AdOBc",
        "colab_type": "code",
        "colab": {
          "base_uri": "https://localhost:8080/",
          "height": 34
        },
        "outputId": "16df6277-3ef1-4aef-c110-0b5dc864b926"
      },
      "source": [
        "l1=[1,3,5,7,9,10,12]\n",
        "l1=[x for (i,x) in enumerate(l1)if i not in (0,4,5)] \n",
        "print(l1)"
      ],
      "execution_count": 76,
      "outputs": [
        {
          "output_type": "stream",
          "text": [
            "[3, 5, 7, 12]\n"
          ],
          "name": "stdout"
        }
      ]
    },
    {
      "cell_type": "markdown",
      "metadata": {
        "id": "TT83jnWdiXyP",
        "colab_type": "text"
      },
      "source": [
        "6.Write a Python program to print the numbers of a specified list after removing even numbers from it."
      ]
    },
    {
      "cell_type": "code",
      "metadata": {
        "id": "sBx_2O1uijRM",
        "colab_type": "code",
        "colab": {
          "base_uri": "https://localhost:8080/",
          "height": 71
        },
        "outputId": "4f8af576-a7cd-4a7e-c4fa-39d7e8e95c95"
      },
      "source": [
        " list = [11, 22, 33, 44, 55]\n",
        "print(\"Original list:\",list)\n",
        "for i  in list:\n",
        "    if(i%2 == 0):\n",
        "      list.remove(i)\n",
        "print(\"list after removing EVEN numbers:\",list)"
      ],
      "execution_count": 92,
      "outputs": [
        {
          "output_type": "stream",
          "text": [
            "Original list: [11, 22, 33, 44, 55]\n",
            "list after removing EVEN numbers: [11, 33, 55]\n"
          ],
          "name": "stdout"
        }
      ]
    },
    {
      "cell_type": "markdown",
      "metadata": {
        "id": "TYp8Sjs-mPIn",
        "colab_type": "text"
      },
      "source": [
        "7.Write a Python program to shuffle and print a specified list."
      ]
    },
    {
      "cell_type": "code",
      "metadata": {
        "id": "q34F-bVImTq9",
        "colab_type": "code",
        "colab": {
          "base_uri": "https://localhost:8080/",
          "height": 71
        },
        "outputId": "21dfa4ba-56ea-4ca8-a6e5-909d6be204af"
      },
      "source": [
        "import random\n",
        "test_list=[3,4,5,6,7]\n",
        "print(\"original list is:\",test_list)\n",
        "random.shuffle(test_list)\n",
        "print(\"after shuffled list is:\",test_list)"
      ],
      "execution_count": 97,
      "outputs": [
        {
          "output_type": "stream",
          "text": [
            "original list is: [3, 4, 5, 6, 7]\n",
            "after shuffled list is: [7, 6, 3, 5, 4]\n"
          ],
          "name": "stdout"
        }
      ]
    },
    {
      "cell_type": "markdown",
      "metadata": {
        "id": "WQZS-Q7Zpdbh",
        "colab_type": "text"
      },
      "source": [
        "8.Write a Python program to get the difference between the two lists."
      ]
    },
    {
      "cell_type": "code",
      "metadata": {
        "id": "yUH9WgHHs7-2",
        "colab_type": "code",
        "colab": {
          "base_uri": "https://localhost:8080/",
          "height": 34
        },
        "outputId": "f9b8a911-9c2f-480e-f5cb-cfd6e9bccd9e"
      },
      "source": [
        "def Diff(li1, li2):\n",
        "  li_dif = [i for i in li1 + li2 if i not in li1 or i not in li2]\n",
        "  return li_dif\n",
        "li1 = [10, 15, 20, 25, 30, 35, 40] \n",
        "li2 = [25, 40, 35] \n",
        "li3 = Diff(li1, li2) \n",
        "print(li3)"
      ],
      "execution_count": 122,
      "outputs": [
        {
          "output_type": "stream",
          "text": [
            "[10, 15, 20, 30]\n"
          ],
          "name": "stdout"
        }
      ]
    }
  ]
}