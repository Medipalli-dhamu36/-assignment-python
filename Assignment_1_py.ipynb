{
  "nbformat": 4,
  "nbformat_minor": 0,
  "metadata": {
    "colab": {
      "name": "Assignment 1.py",
      "provenance": [],
      "collapsed_sections": [],
      "authorship_tag": "ABX9TyMqcovsKvGt4XftYX3r3AJT",
      "include_colab_link": true
    },
    "kernelspec": {
      "name": "python3",
      "display_name": "Python 3"
    }
  },
  "cells": [
    {
      "cell_type": "markdown",
      "metadata": {
        "id": "view-in-github",
        "colab_type": "text"
      },
      "source": [
        "<a href=\"https://colab.research.google.com/github/charitha0606/-assignment-python/blob/master/Assignment_1_py.ipynb\" target=\"_parent\"><img src=\"https://colab.research.google.com/assets/colab-badge.svg\" alt=\"Open In Colab\"/></a>"
      ]
    },
    {
      "cell_type": "markdown",
      "metadata": {
        "id": "M5rGLIoFDu2y",
        "colab_type": "text"
      },
      "source": [
        "Write a python program to design simple calculator for the operaters\n",
        "\n",
        "1.addition"
      ]
    },
    {
      "cell_type": "code",
      "metadata": {
        "id": "hQIbT_mOobB4",
        "colab_type": "code",
        "colab": {
          "base_uri": "https://localhost:8080/",
          "height": 69
        },
        "outputId": "9509a5ab-9472-4a96-d134-0a35bcb1c91d"
      },
      "source": [
        "a=int(input('enter the first value'))\n",
        "b=int(input('enter the second value'))\n",
        " \n",
        "print('the sum of two number is',a+b)"
      ],
      "execution_count": null,
      "outputs": [
        {
          "output_type": "stream",
          "text": [
            "enter the first value12\n",
            "enter the second value10\n",
            "the sum of two number is 22\n"
          ],
          "name": "stdout"
        }
      ]
    },
    {
      "cell_type": "markdown",
      "metadata": {
        "id": "i8q6DNfFFpK8",
        "colab_type": "text"
      },
      "source": [
        "2.subtraction"
      ]
    },
    {
      "cell_type": "code",
      "metadata": {
        "id": "GVcvekqWFvVU",
        "colab_type": "code",
        "colab": {
          "base_uri": "https://localhost:8080/",
          "height": 69
        },
        "outputId": "0e7c0fd2-eaf5-42e9-fd8d-6edcbd52010a"
      },
      "source": [
        "a=int(input('enter the first value'))\n",
        "b=int(input('enter the second value'))\n",
        "print('the sub of two number is',a-b)"
      ],
      "execution_count": null,
      "outputs": [
        {
          "output_type": "stream",
          "text": [
            "enter the first value12\n",
            "enter the second value10\n",
            "the sub of two number is 2\n"
          ],
          "name": "stdout"
        }
      ]
    },
    {
      "cell_type": "markdown",
      "metadata": {
        "id": "304b5kRlGXkH",
        "colab_type": "text"
      },
      "source": [
        "3.multiplication"
      ]
    },
    {
      "cell_type": "code",
      "metadata": {
        "id": "hqCpj5S9G5NH",
        "colab_type": "code",
        "colab": {
          "base_uri": "https://localhost:8080/",
          "height": 69
        },
        "outputId": "d0ccb951-9954-4a1b-9363-549716dd6370"
      },
      "source": [
        " a=int(input('enter the first value'))\n",
        "b=int(input('enter the second value'))\n",
        "print('the mutlipy of two number is',a*b)"
      ],
      "execution_count": null,
      "outputs": [
        {
          "output_type": "stream",
          "text": [
            "enter the first value12\n",
            "enter the second value10\n",
            "the mutlipy of two number is 120\n"
          ],
          "name": "stdout"
        }
      ]
    },
    {
      "cell_type": "markdown",
      "metadata": {
        "id": "eIU4sChfHEPt",
        "colab_type": "text"
      },
      "source": [
        "4.division"
      ]
    },
    {
      "cell_type": "code",
      "metadata": {
        "id": "v5PZWMTHHHVD",
        "colab_type": "code",
        "colab": {
          "base_uri": "https://localhost:8080/",
          "height": 69
        },
        "outputId": "a7a5f5e5-3ce7-4296-b453-c843c43264e3"
      },
      "source": [
        " a=int(input('enter the first value'))\n",
        "b=int(input('enter the second value'))\n",
        "print('the div of two number is',a/b)"
      ],
      "execution_count": null,
      "outputs": [
        {
          "output_type": "stream",
          "text": [
            "enter the first value12\n",
            "enter the second value10\n",
            "the div of two number is 1.2\n"
          ],
          "name": "stdout"
        }
      ]
    },
    {
      "cell_type": "markdown",
      "metadata": {
        "id": "9JRu5cFoHYdN",
        "colab_type": "text"
      },
      "source": [
        "5.modulus"
      ]
    },
    {
      "cell_type": "code",
      "metadata": {
        "id": "YUiHB2UeHb-l",
        "colab_type": "code",
        "colab": {
          "base_uri": "https://localhost:8080/",
          "height": 69
        },
        "outputId": "c016ea41-9267-46a7-e4c8-d206600d6111"
      },
      "source": [
        " a=int(input('enter the first value'))\n",
        "b=int(input('enter the second value'))\n",
        "print('the modulus  of two number is',a%b)"
      ],
      "execution_count": null,
      "outputs": [
        {
          "output_type": "stream",
          "text": [
            "enter the first value12\n",
            "enter the second value10\n",
            "the modulus  of two number is 2\n"
          ],
          "name": "stdout"
        }
      ]
    },
    {
      "cell_type": "markdown",
      "metadata": {
        "id": "zYE6GXwlH2ZA",
        "colab_type": "text"
      },
      "source": [
        "6.exponent"
      ]
    },
    {
      "cell_type": "code",
      "metadata": {
        "id": "tiTnJSacH5mS",
        "colab_type": "code",
        "colab": {
          "base_uri": "https://localhost:8080/",
          "height": 89
        },
        "outputId": "3855c4c3-3b6b-4cb0-8cd9-13ee2bcc2ee1"
      },
      "source": [
        " a=int(input('enter the first value'))\n",
        "b=int(input('enter the second value'))\n",
        "print('the exponent  of two number is',a**b)"
      ],
      "execution_count": null,
      "outputs": [
        {
          "output_type": "stream",
          "text": [
            "enter the first value12\n",
            "enter the second value10\n",
            "the exponent  of two number is 61917364224\n"
          ],
          "name": "stdout"
        }
      ]
    },
    {
      "cell_type": "markdown",
      "metadata": {
        "id": "g_wipq_oIFx0",
        "colab_type": "text"
      },
      "source": [
        "7.floor division"
      ]
    },
    {
      "cell_type": "code",
      "metadata": {
        "id": "rEvO7KJJIKY6",
        "colab_type": "code",
        "colab": {
          "base_uri": "https://localhost:8080/",
          "height": 89
        },
        "outputId": "8ae51e82-2ba2-4851-8b3e-76c66fd9d173"
      },
      "source": [
        " a=int(input('enter the first value'))\n",
        "b=int(input('enter the second value'))\n",
        "print('the floor division  of two number is',a//b)"
      ],
      "execution_count": null,
      "outputs": [
        {
          "output_type": "stream",
          "text": [
            "enter the first value12\n",
            "enter the second value10\n",
            "the floor division  of two number is 1\n"
          ],
          "name": "stdout"
        }
      ]
    },
    {
      "cell_type": "markdown",
      "metadata": {
        "id": "Hk7KDO2uIYng",
        "colab_type": "text"
      },
      "source": [
        "2.write a python program to calculate simple interest"
      ]
    },
    {
      "cell_type": "code",
      "metadata": {
        "id": "aCmVTVGZIfrT",
        "colab_type": "code",
        "colab": {
          "base_uri": "https://localhost:8080/",
          "height": 106
        },
        "outputId": "95366724-68f9-4128-eb02-29cedb1153c1"
      },
      "source": [
        " p=int(input('enter the first value'))\n",
        "t=int(input('enter the second value'))\n",
        "r=int(input('enter the third value'))\n",
        "print('the simple interest of three number is',\n",
        "(p*t*r)/100)"
      ],
      "execution_count": null,
      "outputs": [
        {
          "output_type": "stream",
          "text": [
            "enter the first value1000\n",
            "enter the second value1\n",
            "enter the third value2\n",
            "the simple interest of three number is 20.0\n"
          ],
          "name": "stdout"
        }
      ]
    },
    {
      "cell_type": "markdown",
      "metadata": {
        "id": "E7SIeh57JynY",
        "colab_type": "text"
      },
      "source": [
        " 3.write a python program to calculate area of circle"
      ]
    },
    {
      "cell_type": "code",
      "metadata": {
        "id": "4-sseZwtKFsL",
        "colab_type": "code",
        "colab": {
          "base_uri": "https://localhost:8080/",
          "height": 71
        },
        "outputId": "cd54e351-7377-4588-d76b-601da75ecb78"
      },
      "source": [
        "PI=3.14\n",
        "r=float(input('enter the radius value of the circle'))\n",
        "area=PI*r*r\n",
        "print(\"%.2f\"%area)"
      ],
      "execution_count": null,
      "outputs": [
        {
          "output_type": "stream",
          "text": [
            "enter the radius value of the circle6\n",
            "113.04\n"
          ],
          "name": "stdout"
        }
      ]
    },
    {
      "cell_type": "markdown",
      "metadata": {
        "id": "25PTmazCOEkW",
        "colab_type": "text"
      },
      "source": [
        "4.write a python program to calculate area of traingle"
      ]
    },
    {
      "cell_type": "code",
      "metadata": {
        "id": "NfyPXc_2OlnD",
        "colab_type": "code",
        "colab": {
          "base_uri": "https://localhost:8080/",
          "height": 103
        },
        "outputId": "bed4dfa1-e544-4753-a27f-c56a69a83c2d"
      },
      "source": [
        "s=float(input('enter the first value'))\n",
        "a=float(input('enter the second value'))\n",
        "b=float(input('enter the third value'))\n",
        "c=float(input('enter the fourth value'))\n",
        "area=(s*(s-a)*(s-b)*(s-c))**0.5\n",
        "print(\"%.2f\"%area)"
      ],
      "execution_count": null,
      "outputs": [
        {
          "output_type": "stream",
          "text": [
            "enter the first value10\n",
            "enter the second value5\n",
            "enter the third value4\n",
            "enter the fourth value3\n",
            "45.83\n"
          ],
          "name": "stdout"
        }
      ]
    },
    {
      "cell_type": "markdown",
      "metadata": {
        "id": "3NgGGocpR78o",
        "colab_type": "text"
      },
      "source": [
        "5.write a python program to temperature in Celsius to Fahrenheit"
      ]
    },
    {
      "cell_type": "code",
      "metadata": {
        "id": "saJqJ2swSXjV",
        "colab_type": "code",
        "colab": {
          "base_uri": "https://localhost:8080/",
          "height": 71
        },
        "outputId": "29654775-94a4-4139-f39e-b9c7e86d4f7f"
      },
      "source": [
        "Celsius=float(input('enter the Celsius value in temperature'))\n",
        "Fahrenheit=(Celsius*9/5)+32\n",
        "print(\"%.2f\"%Fahrenheit)"
      ],
      "execution_count": null,
      "outputs": [
        {
          "output_type": "stream",
          "text": [
            "enter the Celsius value in temperature37\n",
            "98.60\n"
          ],
          "name": "stdout"
        }
      ]
    },
    {
      "cell_type": "markdown",
      "metadata": {
        "id": "-Y1kYU8ZU5Yd",
        "colab_type": "text"
      },
      "source": [
        "6.write a python program to calculate area of rectangle"
      ]
    },
    {
      "cell_type": "code",
      "metadata": {
        "id": "Yn6ePuLQVGt_",
        "colab_type": "code",
        "colab": {
          "base_uri": "https://localhost:8080/",
          "height": 89
        },
        "outputId": "5202a276-85d1-4924-b5d7-7f78115b8556"
      },
      "source": [
        "Width=float(input('enter the width value of rectangle'))\n",
        "Height=float(input('enter the height value of rectangle'))\n",
        "area=Width*Height\n",
        "print(\"%.2f\"%area)"
      ],
      "execution_count": null,
      "outputs": [
        {
          "output_type": "stream",
          "text": [
            "enter the width value of rectangle3\n",
            "enter the height value of rectangle4\n",
            "12.00\n"
          ],
          "name": "stdout"
        }
      ]
    },
    {
      "cell_type": "markdown",
      "metadata": {
        "id": "scIxM5c1WeIB",
        "colab_type": "text"
      },
      "source": [
        "7.write a python program to calculate perimeter of a square"
      ]
    },
    {
      "cell_type": "code",
      "metadata": {
        "id": "nColpivtWqyH",
        "colab_type": "code",
        "colab": {
          "base_uri": "https://localhost:8080/",
          "height": 71
        },
        "outputId": "d13a916f-ff66-42e7-a1bd-6a5fd6779e85"
      },
      "source": [
        "Slength=float(input('enter the side length of a square'))\n",
        "Perimeter=4*Slength\n",
        "print(\"%.2f\"%Perimeter)"
      ],
      "execution_count": null,
      "outputs": [
        {
          "output_type": "stream",
          "text": [
            "enter the side length of a square5\n",
            "20.00\n"
          ],
          "name": "stdout"
        }
      ]
    },
    {
      "cell_type": "markdown",
      "metadata": {
        "id": "_C_-OhL_ZCg5",
        "colab_type": "text"
      },
      "source": [
        "8.write a python program to calculate circumference of a circle"
      ]
    },
    {
      "cell_type": "code",
      "metadata": {
        "id": "cKCM-0l9ZP8z",
        "colab_type": "code",
        "colab": {
          "base_uri": "https://localhost:8080/",
          "height": 71
        },
        "outputId": "2e7a37b4-6074-41a8-cd3e-00e241f3baa2"
      },
      "source": [
        " \n",
        "pi=3.14\n",
        "Radius=float(input('enter the radius value of circumference'))\n",
        "Circumference=2*pi*Radius\n",
        "print(\"%.2f\"%Circumference)"
      ],
      "execution_count": null,
      "outputs": [
        {
          "output_type": "stream",
          "text": [
            "enter the radius value of circumference4\n",
            "25.12\n"
          ],
          "name": "stdout"
        }
      ]
    },
    {
      "cell_type": "markdown",
      "metadata": {
        "id": "74MLnj99a1DQ",
        "colab_type": "text"
      },
      "source": [
        "9.write a python program to swap two numbers"
      ]
    },
    {
      "cell_type": "code",
      "metadata": {
        "id": "EhXMqZ5la9f7",
        "colab_type": "code",
        "colab": {
          "base_uri": "https://localhost:8080/",
          "height": 121
        },
        "outputId": "edf9b975-efdb-47ff-acb0-942f6dacbb83"
      },
      "source": [
        "a=input('enter first number')\n",
        "b=input('enter second number')\n",
        "print('value of a before swapping',a)\n",
        "print('value of b before swapping',b) \n",
        "Temp=a\n",
        "a=b\n",
        "b=Temp\n",
        "print('value of a after swapping',a)\n",
        "print('value of b after swapping',b)"
      ],
      "execution_count": null,
      "outputs": [
        {
          "output_type": "stream",
          "text": [
            "enter first number99\n",
            "enter second number100\n",
            "value of a before swapping 99\n",
            "value of b before swapping 100\n",
            "value of a after swapping 100\n",
            "value of b after swapping 99\n"
          ],
          "name": "stdout"
        }
      ]
    }
  ]
}