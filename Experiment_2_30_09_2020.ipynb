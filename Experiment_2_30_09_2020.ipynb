{
  "nbformat": 4,
  "nbformat_minor": 0,
  "metadata": {
    "colab": {
      "name": "Experiment-2-30/09/2020",
      "provenance": [],
      "collapsed_sections": [],
      "authorship_tag": "ABX9TyOo5uenQmTioCDusUw62tP9",
      "include_colab_link": true
    },
    "kernelspec": {
      "name": "python3",
      "display_name": "Python 3"
    }
  },
  "cells": [
    {
      "cell_type": "markdown",
      "metadata": {
        "id": "view-in-github",
        "colab_type": "text"
      },
      "source": [
        "<a href=\"https://colab.research.google.com/github/charitha0606/-assignment-python/blob/master/Experiment_2_30_09_2020.ipynb\" target=\"_parent\"><img src=\"https://colab.research.google.com/assets/colab-badge.svg\" alt=\"Open In Colab\"/></a>"
      ]
    },
    {
      "cell_type": "markdown",
      "metadata": {
        "id": "KIuYAGT3q6NV"
      },
      "source": [
        "1.print\"hello world\""
      ]
    },
    {
      "cell_type": "code",
      "metadata": {
        "id": "t0o86PHEq_wO",
        "outputId": "a5af2c77-6146-4c35-eba2-437b07d36f1f",
        "colab": {
          "base_uri": "https://localhost:8080/",
          "height": 34
        }
      },
      "source": [
        "print(\"hello world\")"
      ],
      "execution_count": 60,
      "outputs": [
        {
          "output_type": "stream",
          "text": [
            "hello world\n"
          ],
          "name": "stdout"
        }
      ]
    },
    {
      "cell_type": "markdown",
      "metadata": {
        "id": "ft8SJunDRSX0"
      },
      "source": [
        "2.Compute arthmetic operations."
      ]
    },
    {
      "cell_type": "code",
      "metadata": {
        "id": "LI8J1IzxRcf0",
        "outputId": "d88923f0-651e-4fa2-f227-0afb51ce53a8",
        "colab": {
          "base_uri": "https://localhost:8080/",
          "height": 34
        }
      },
      "source": [
        "a=4\n",
        "b=5\n",
        "sum=a+b\n",
        "sub=a-b\n",
        "mul=a*b\n",
        "div=a/b\n",
        "mod=a%b\n",
        "print(sum,sub,mul,div,mod)"
      ],
      "execution_count": 6,
      "outputs": [
        {
          "output_type": "stream",
          "text": [
            "9 -1 20 0.8 4\n"
          ],
          "name": "stdout"
        }
      ]
    },
    {
      "cell_type": "markdown",
      "metadata": {
        "id": "vf7JdUV-SYwh"
      },
      "source": [
        "3.demostrate the relational operators."
      ]
    },
    {
      "cell_type": "code",
      "metadata": {
        "id": "BSIBcM3hTRlB",
        "outputId": "4b0bb0b9-fdfc-438e-cf89-31997b258275",
        "colab": {
          "base_uri": "https://localhost:8080/",
          "height": 34
        }
      },
      "source": [
        "x=6\n",
        "y=8\n",
        "print(x>y)"
      ],
      "execution_count": 15,
      "outputs": [
        {
          "output_type": "stream",
          "text": [
            "False\n"
          ],
          "name": "stdout"
        }
      ]
    },
    {
      "cell_type": "code",
      "metadata": {
        "id": "x5oDP1RkVvQs",
        "outputId": "33f2b1f2-ec2c-4fba-e5fc-5b05a565f692",
        "colab": {
          "base_uri": "https://localhost:8080/",
          "height": 34
        }
      },
      "source": [
        "x=6\n",
        "y=8\n",
        "print(x==y)"
      ],
      "execution_count": 17,
      "outputs": [
        {
          "output_type": "stream",
          "text": [
            "False\n"
          ],
          "name": "stdout"
        }
      ]
    },
    {
      "cell_type": "code",
      "metadata": {
        "id": "0T5mJmR5WByw",
        "outputId": "b6ae5f5b-5c5c-47bd-b75c-2e6ac6fe671b",
        "colab": {
          "base_uri": "https://localhost:8080/",
          "height": 34
        }
      },
      "source": [
        "x=6\n",
        "y=8\n",
        "print(x<=y)"
      ],
      "execution_count": 18,
      "outputs": [
        {
          "output_type": "stream",
          "text": [
            "True\n"
          ],
          "name": "stdout"
        }
      ]
    },
    {
      "cell_type": "code",
      "metadata": {
        "id": "HOb7RQDTWJDa",
        "outputId": "2fcbab5d-a344-4003-8344-e048af74d5d3",
        "colab": {
          "base_uri": "https://localhost:8080/",
          "height": 34
        }
      },
      "source": [
        "x=6\n",
        "y=8\n",
        "print(x!=y)"
      ],
      "execution_count": 19,
      "outputs": [
        {
          "output_type": "stream",
          "text": [
            "True\n"
          ],
          "name": "stdout"
        }
      ]
    },
    {
      "cell_type": "markdown",
      "metadata": {
        "id": "YDzS4PDhWcxR"
      },
      "source": [
        "4.demonstrate the logical operators"
      ]
    },
    {
      "cell_type": "code",
      "metadata": {
        "id": "6GV2nHLJYBUj",
        "outputId": "5a1ae96a-8452-450f-fc17-b5a01abf83ee",
        "colab": {
          "base_uri": "https://localhost:8080/",
          "height": 51
        }
      },
      "source": [
        " \n",
        "a =3\n",
        "b =-3\n",
        "c =0\n",
        "if a > 0 or b > 0:\n",
        "  print(\"Either of the number is greater than 0\") \n",
        "else:\n",
        "  print(\"No number is greater than 0\") \n",
        "if b > 0 or c > 0:\n",
        "  print(\"Either of the number is greater than 0\") \n",
        "else:\n",
        "  print(\"No number is greater than 0\")"
      ],
      "execution_count": 26,
      "outputs": [
        {
          "output_type": "stream",
          "text": [
            "Either of the number is greater than 0\n",
            "No number is greater than 0\n"
          ],
          "name": "stdout"
        }
      ]
    },
    {
      "cell_type": "code",
      "metadata": {
        "id": "qbgV9jjGYtxK",
        "outputId": "2ddf0294-5058-4697-a5b9-d561925218bc",
        "colab": {
          "base_uri": "https://localhost:8080/",
          "height": 34
        }
      },
      "source": [
        "a = 10\n",
        "b = 12\n",
        "c = 0\n",
        "if a and b and c: \n",
        "  print(\"All the numbers have boolean value as True\") \n",
        "else: \n",
        "  print(\"Atleast one number has boolean\")"
      ],
      "execution_count": 28,
      "outputs": [
        {
          "output_type": "stream",
          "text": [
            "Atleast one number has boolean\n"
          ],
          "name": "stdout"
        }
      ]
    },
    {
      "cell_type": "code",
      "metadata": {
        "id": "mKJaMxbUY_To",
        "outputId": "8443e610-e5ab-4b48-df96-5d4665d54a4d",
        "colab": {
          "base_uri": "https://localhost:8080/",
          "height": 34
        }
      },
      "source": [
        "a = 10\n",
        "if not a:\n",
        "  print(\"Boolean value of a is True\") \n",
        "if not (a%3 == 0 or a%5 == 0):\n",
        "  print(\"10 is not divisible by either 3 or 5\") \n",
        "else:\n",
        "  print(\"10 is divisible by either 3 or 5\")"
      ],
      "execution_count": 30,
      "outputs": [
        {
          "output_type": "stream",
          "text": [
            "10 is divisible by either 3 or 5\n"
          ],
          "name": "stdout"
        }
      ]
    },
    {
      "cell_type": "markdown",
      "metadata": {
        "id": "ACUOVXYeaHAC"
      },
      "source": [
        "5.demonstrate the shorthand assignment operators."
      ]
    },
    {
      "cell_type": "code",
      "metadata": {
        "id": "Xd22DLN3a22a",
        "outputId": "8db33091-2c49-4865-de35-650fb6f66eca",
        "colab": {
          "base_uri": "https://localhost:8080/",
          "height": 34
        }
      },
      "source": [
        "x=6\n",
        "y=7\n",
        "x+=y\n",
        "print(x)"
      ],
      "execution_count": 32,
      "outputs": [
        {
          "output_type": "stream",
          "text": [
            "13\n"
          ],
          "name": "stdout"
        }
      ]
    },
    {
      "cell_type": "code",
      "metadata": {
        "id": "hQzN53yddEK0",
        "outputId": "a086aef3-3b27-47a1-f610-523871195c05",
        "colab": {
          "base_uri": "https://localhost:8080/",
          "height": 34
        }
      },
      "source": [
        "x=5\n",
        "y=9\n",
        "x-=y\n",
        "print(x)"
      ],
      "execution_count": 33,
      "outputs": [
        {
          "output_type": "stream",
          "text": [
            "-4\n"
          ],
          "name": "stdout"
        }
      ]
    },
    {
      "cell_type": "code",
      "metadata": {
        "id": "kqgXhrktdKts",
        "outputId": "2e94e028-ee8f-4b4e-dc84-a5af2dafa0c4",
        "colab": {
          "base_uri": "https://localhost:8080/",
          "height": 34
        }
      },
      "source": [
        "x=3\n",
        "y=1\n",
        "x*=y\n",
        "print(x)"
      ],
      "execution_count": 34,
      "outputs": [
        {
          "output_type": "stream",
          "text": [
            "3\n"
          ],
          "name": "stdout"
        }
      ]
    },
    {
      "cell_type": "code",
      "metadata": {
        "id": "hxFYGxsEdV8B",
        "outputId": "5824a83f-55c1-4585-c49c-67fb587955e1",
        "colab": {
          "base_uri": "https://localhost:8080/",
          "height": 34
        }
      },
      "source": [
        "x=2\n",
        "y=6\n",
        "x/=y\n",
        "print(x)"
      ],
      "execution_count": 35,
      "outputs": [
        {
          "output_type": "stream",
          "text": [
            "0.3333333333333333\n"
          ],
          "name": "stdout"
        }
      ]
    },
    {
      "cell_type": "code",
      "metadata": {
        "id": "qr3_wy8ndfBj",
        "outputId": "0de1142f-cab9-4a82-d72a-1800b9ad6ecf",
        "colab": {
          "base_uri": "https://localhost:8080/",
          "height": 34
        }
      },
      "source": [
        "x=5\n",
        "y=4\n",
        "x%=y\n",
        "print(x)"
      ],
      "execution_count": 36,
      "outputs": [
        {
          "output_type": "stream",
          "text": [
            "1\n"
          ],
          "name": "stdout"
        }
      ]
    },
    {
      "cell_type": "code",
      "metadata": {
        "id": "6L_XybU_dpQa",
        "outputId": "3c893685-e5ec-4d55-83c1-fa298c20811a",
        "colab": {
          "base_uri": "https://localhost:8080/",
          "height": 34
        }
      },
      "source": [
        "x=6\n",
        "y=9\n",
        "x=y\n",
        "print(x)"
      ],
      "execution_count": 37,
      "outputs": [
        {
          "output_type": "stream",
          "text": [
            "9\n"
          ],
          "name": "stdout"
        }
      ]
    },
    {
      "cell_type": "markdown",
      "metadata": {
        "id": "hsCrtaS9d0lH"
      },
      "source": [
        " 6.demostrate the increment and decrement operators."
      ]
    },
    {
      "cell_type": "code",
      "metadata": {
        "id": "9Q5aZ4vKeFXE",
        "outputId": "10862f66-d774-43e6-a812-3d78006ad190",
        "colab": {
          "base_uri": "https://localhost:8080/",
          "height": 240
        }
      },
      "source": [
        "print(\"INCREMENTED FOR LOOP\") \n",
        "for i in range(0, 5):\n",
        "   print(i) \n",
        "print(\"\\n DECREMENTED FOR LOOP\") \n",
        "for i in range(4, -1, -1): \n",
        "   print(i)"
      ],
      "execution_count": 40,
      "outputs": [
        {
          "output_type": "stream",
          "text": [
            "INCREMENTED FOR LOOP\n",
            "0\n",
            "1\n",
            "2\n",
            "3\n",
            "4\n",
            "\n",
            " DECREMENTED FOR LOOP\n",
            "4\n",
            "3\n",
            "2\n",
            "1\n",
            "0\n"
          ],
          "name": "stdout"
        }
      ]
    },
    {
      "cell_type": "markdown",
      "metadata": {
        "id": "qRzxiuAsgDpx"
      },
      "source": [
        "7.find greatest of two numbers using conditional operators."
      ]
    },
    {
      "cell_type": "code",
      "metadata": {
        "id": "ePvkl2dzgj9H",
        "outputId": "9fd49034-13b2-4023-827a-6030f935e126",
        "colab": {
          "base_uri": "https://localhost:8080/",
          "height": 34
        }
      },
      "source": [
        " \n",
        "n1=4\n",
        "n2=10\n",
        "mx=n1 if n1>n2 else n2\n",
        "print(\"Largest number between \" + str(n1) + \n",
        " \n",
        "                        \" and \" + str(n2) + \n",
        " \n",
        "                        \" is \" + str(mx))"
      ],
      "execution_count": 41,
      "outputs": [
        {
          "output_type": "stream",
          "text": [
            "Largest number between 4 and 10 is 10\n"
          ],
          "name": "stdout"
        }
      ]
    },
    {
      "cell_type": "markdown",
      "metadata": {
        "id": "4Y1a5di6hz5c"
      },
      "source": [
        "8.find the greatest of three numbers using conditional operators."
      ]
    },
    {
      "cell_type": "code",
      "metadata": {
        "id": "Tp43rpQ0h9ra",
        "outputId": "1d7b8da8-053b-4710-f98f-b37639727ea2",
        "colab": {
          "base_uri": "https://localhost:8080/",
          "height": 34
        }
      },
      "source": [
        "a=3\n",
        "b=4\n",
        "c=5\n",
        "mx=(a if(a>b and b>c)else(b if b>c else c))\n",
        "print(\"Largest number between \"+str(a)+\"and\"+str(b)+\"and\"+str(c)+\"is\"+str(mx))"
      ],
      "execution_count": 46,
      "outputs": [
        {
          "output_type": "stream",
          "text": [
            "Largest number between 3and4and5is5\n"
          ],
          "name": "stdout"
        }
      ]
    },
    {
      "cell_type": "markdown",
      "metadata": {
        "id": "2dUiPfA6nF6U"
      },
      "source": [
        "9.demonstrate the bitwise Operators."
      ]
    },
    {
      "cell_type": "code",
      "metadata": {
        "id": "0DOMkS9MnNP_",
        "outputId": "3c6950ed-3c40-47d4-b338-ba379781f76c",
        "colab": {
          "base_uri": "https://localhost:8080/",
          "height": 137
        }
      },
      "source": [
        "a=6\n",
        "b=4\n",
        "print(\"a&b=\",a&b)\n",
        "print(\"a|b=\",a|b)\n",
        "print(\"a^b=\",a^b)\n",
        "print(\"a<<b=\",a<<b)\n",
        "print(\"a>>b=\",a>>b)\n",
        "print(\"~a=\",~a)\n",
        "print(\"~b=\",~b)"
      ],
      "execution_count": 52,
      "outputs": [
        {
          "output_type": "stream",
          "text": [
            "a&b= 4\n",
            "a|b= 6\n",
            "a^b= 2\n",
            "a<<b= 96\n",
            "a>>b= 0\n",
            "~a= -7\n",
            "~b= -5\n"
          ],
          "name": "stdout"
        }
      ]
    },
    {
      "cell_type": "markdown",
      "metadata": {
        "id": "HpNUuUZ5owLW"
      },
      "source": [
        "10.compute addition of two numbers.(subtraction, multiplication, division,to find the remainder)"
      ]
    },
    {
      "cell_type": "code",
      "metadata": {
        "id": "7GetB1L8pGdv",
        "outputId": "1ae2e821-d6ca-44c5-92ff-1459da4c9671",
        "colab": {
          "base_uri": "https://localhost:8080/",
          "height": 103
        }
      },
      "source": [
        "a=5\n",
        "b=10\n",
        "print(\"addition:\",a+b)\n",
        "print(\"subtraction:\",a-b)\n",
        "print(\"multiplication:\",a*b)\n",
        "print(\"division:\",a/b)\n",
        "print(\"remainder:\",a%b)"
      ],
      "execution_count": 59,
      "outputs": [
        {
          "output_type": "stream",
          "text": [
            "addition: 15\n",
            "subtraction: -5\n",
            "multiplication: 50\n",
            "division: 0.5\n",
            "remainder: 5\n"
          ],
          "name": "stdout"
        }
      ]
    }
  ]
}